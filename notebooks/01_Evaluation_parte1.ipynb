{
 "cells": [
  {
   "cell_type": "markdown",
   "metadata": {},
   "source": [
    "# Titanic dataset"
   ]
  },
  {
   "cell_type": "code",
   "execution_count": 1,
   "metadata": {},
   "outputs": [
    {
     "name": "stdout",
     "output_type": "stream",
     "text": [
      "Logado no diretório: /home/jovyan/work\n"
     ]
    }
   ],
   "source": [
    "import os\n",
    "import sys\n",
    "\n",
    "diretorio_atual = os.getcwd()\n",
    "print(f\"Logado no diretório: {diretorio_atual}\")\n",
    "sys.path.append('/home/jovyan/work')"
   ]
  },
  {
   "cell_type": "code",
   "execution_count": 2,
   "metadata": {},
   "outputs": [
    {
     "data": {
      "text/html": [
       "<div>\n",
       "<style scoped>\n",
       "    .dataframe tbody tr th:only-of-type {\n",
       "        vertical-align: middle;\n",
       "    }\n",
       "\n",
       "    .dataframe tbody tr th {\n",
       "        vertical-align: top;\n",
       "    }\n",
       "\n",
       "    .dataframe thead th {\n",
       "        text-align: right;\n",
       "    }\n",
       "</style>\n",
       "<table border=\"1\" class=\"dataframe\">\n",
       "  <thead>\n",
       "    <tr style=\"text-align: right;\">\n",
       "      <th></th>\n",
       "      <th>PassengerId</th>\n",
       "      <th>Survived</th>\n",
       "      <th>Pclass</th>\n",
       "      <th>Name</th>\n",
       "      <th>Sex</th>\n",
       "      <th>Age</th>\n",
       "      <th>SibSp</th>\n",
       "      <th>Parch</th>\n",
       "      <th>Ticket</th>\n",
       "      <th>Fare</th>\n",
       "      <th>Cabin</th>\n",
       "      <th>Embarked</th>\n",
       "    </tr>\n",
       "  </thead>\n",
       "  <tbody>\n",
       "    <tr>\n",
       "      <th>0</th>\n",
       "      <td>1</td>\n",
       "      <td>0</td>\n",
       "      <td>3</td>\n",
       "      <td>Braund, Mr. Owen Harris</td>\n",
       "      <td>male</td>\n",
       "      <td>22.0</td>\n",
       "      <td>1</td>\n",
       "      <td>0</td>\n",
       "      <td>A/5 21171</td>\n",
       "      <td>7.2500</td>\n",
       "      <td>NaN</td>\n",
       "      <td>S</td>\n",
       "    </tr>\n",
       "    <tr>\n",
       "      <th>1</th>\n",
       "      <td>2</td>\n",
       "      <td>1</td>\n",
       "      <td>1</td>\n",
       "      <td>Cumings, Mrs. John Bradley (Florence Briggs Th...</td>\n",
       "      <td>female</td>\n",
       "      <td>38.0</td>\n",
       "      <td>1</td>\n",
       "      <td>0</td>\n",
       "      <td>PC 17599</td>\n",
       "      <td>71.2833</td>\n",
       "      <td>C85</td>\n",
       "      <td>C</td>\n",
       "    </tr>\n",
       "    <tr>\n",
       "      <th>2</th>\n",
       "      <td>3</td>\n",
       "      <td>1</td>\n",
       "      <td>3</td>\n",
       "      <td>Heikkinen, Miss. Laina</td>\n",
       "      <td>female</td>\n",
       "      <td>26.0</td>\n",
       "      <td>0</td>\n",
       "      <td>0</td>\n",
       "      <td>STON/O2. 3101282</td>\n",
       "      <td>7.9250</td>\n",
       "      <td>NaN</td>\n",
       "      <td>S</td>\n",
       "    </tr>\n",
       "    <tr>\n",
       "      <th>3</th>\n",
       "      <td>4</td>\n",
       "      <td>1</td>\n",
       "      <td>1</td>\n",
       "      <td>Futrelle, Mrs. Jacques Heath (Lily May Peel)</td>\n",
       "      <td>female</td>\n",
       "      <td>35.0</td>\n",
       "      <td>1</td>\n",
       "      <td>0</td>\n",
       "      <td>113803</td>\n",
       "      <td>53.1000</td>\n",
       "      <td>C123</td>\n",
       "      <td>S</td>\n",
       "    </tr>\n",
       "    <tr>\n",
       "      <th>4</th>\n",
       "      <td>5</td>\n",
       "      <td>0</td>\n",
       "      <td>3</td>\n",
       "      <td>Allen, Mr. William Henry</td>\n",
       "      <td>male</td>\n",
       "      <td>35.0</td>\n",
       "      <td>0</td>\n",
       "      <td>0</td>\n",
       "      <td>373450</td>\n",
       "      <td>8.0500</td>\n",
       "      <td>NaN</td>\n",
       "      <td>S</td>\n",
       "    </tr>\n",
       "  </tbody>\n",
       "</table>\n",
       "</div>"
      ],
      "text/plain": [
       "   PassengerId  Survived  Pclass  \\\n",
       "0            1         0       3   \n",
       "1            2         1       1   \n",
       "2            3         1       3   \n",
       "3            4         1       1   \n",
       "4            5         0       3   \n",
       "\n",
       "                                                Name     Sex   Age  SibSp  \\\n",
       "0                            Braund, Mr. Owen Harris    male  22.0      1   \n",
       "1  Cumings, Mrs. John Bradley (Florence Briggs Th...  female  38.0      1   \n",
       "2                             Heikkinen, Miss. Laina  female  26.0      0   \n",
       "3       Futrelle, Mrs. Jacques Heath (Lily May Peel)  female  35.0      1   \n",
       "4                           Allen, Mr. William Henry    male  35.0      0   \n",
       "\n",
       "   Parch            Ticket     Fare Cabin Embarked  \n",
       "0      0         A/5 21171   7.2500   NaN        S  \n",
       "1      0          PC 17599  71.2833   C85        C  \n",
       "2      0  STON/O2. 3101282   7.9250   NaN        S  \n",
       "3      0            113803  53.1000  C123        S  \n",
       "4      0            373450   8.0500   NaN        S  "
      ]
     },
     "execution_count": 2,
     "metadata": {},
     "output_type": "execute_result"
    }
   ],
   "source": [
    "import pandas as pd\n",
    "import os\n",
    "\n",
    "TITANIC_PATH = os.path.join(\"data\", \"titanic\")\n",
    "\n",
    "def load_titanic_data(filename, titanic_path=TITANIC_PATH):\n",
    "    csv_path = os.path.join(titanic_path, filename)\n",
    "    return pd.read_csv(csv_path)\n",
    "\n",
    "treinamento_original = load_titanic_data(\"train.csv\")\n",
    "treinamento_original.head()"
   ]
  },
  {
   "cell_type": "code",
   "execution_count": 3,
   "metadata": {},
   "outputs": [
    {
     "name": "stdout",
     "output_type": "stream",
     "text": [
      "Dimensões do conjunto de treinamento: (623, 11)\n",
      "Dimensões do conjunto de teste: (268, 11)\n"
     ]
    }
   ],
   "source": [
    "from sklearn.model_selection import train_test_split\n",
    "# Dividir a base em características (X) e rótulos (y) \n",
    "X = treinamento_original.drop(\"Survived\", axis=1) \n",
    "y = treinamento_original[\"Survived\"] \n",
    "\n",
    "# Dividir a base em conjuntos de treinamento e teste \n",
    "X_train, X_test, y_train, y_test = train_test_split(X, y, test_size=0.3, random_state=42) \n",
    "\n",
    "print(f\"Dimensões do conjunto de treinamento: {X_train.shape}\") \n",
    "print(f\"Dimensões do conjunto de teste: {X_test.shape}\")"
   ]
  },
  {
   "cell_type": "code",
   "execution_count": 4,
   "metadata": {},
   "outputs": [
    {
     "data": {
      "text/html": [
       "<div>\n",
       "<style scoped>\n",
       "    .dataframe tbody tr th:only-of-type {\n",
       "        vertical-align: middle;\n",
       "    }\n",
       "\n",
       "    .dataframe tbody tr th {\n",
       "        vertical-align: top;\n",
       "    }\n",
       "\n",
       "    .dataframe thead th {\n",
       "        text-align: right;\n",
       "    }\n",
       "</style>\n",
       "<table border=\"1\" class=\"dataframe\">\n",
       "  <thead>\n",
       "    <tr style=\"text-align: right;\">\n",
       "      <th></th>\n",
       "      <th>PassengerId</th>\n",
       "      <th>Pclass</th>\n",
       "      <th>Name</th>\n",
       "      <th>Sex</th>\n",
       "      <th>Age</th>\n",
       "      <th>SibSp</th>\n",
       "      <th>Parch</th>\n",
       "      <th>Ticket</th>\n",
       "      <th>Fare</th>\n",
       "      <th>Cabin</th>\n",
       "      <th>Embarked</th>\n",
       "    </tr>\n",
       "  </thead>\n",
       "  <tbody>\n",
       "    <tr>\n",
       "      <th>445</th>\n",
       "      <td>446</td>\n",
       "      <td>1</td>\n",
       "      <td>Dodge, Master. Washington</td>\n",
       "      <td>male</td>\n",
       "      <td>4.0</td>\n",
       "      <td>0</td>\n",
       "      <td>2</td>\n",
       "      <td>33638</td>\n",
       "      <td>81.8583</td>\n",
       "      <td>A34</td>\n",
       "      <td>S</td>\n",
       "    </tr>\n",
       "    <tr>\n",
       "      <th>650</th>\n",
       "      <td>651</td>\n",
       "      <td>3</td>\n",
       "      <td>Mitkoff, Mr. Mito</td>\n",
       "      <td>male</td>\n",
       "      <td>NaN</td>\n",
       "      <td>0</td>\n",
       "      <td>0</td>\n",
       "      <td>349221</td>\n",
       "      <td>7.8958</td>\n",
       "      <td>NaN</td>\n",
       "      <td>S</td>\n",
       "    </tr>\n",
       "    <tr>\n",
       "      <th>172</th>\n",
       "      <td>173</td>\n",
       "      <td>3</td>\n",
       "      <td>Johnson, Miss. Eleanor Ileen</td>\n",
       "      <td>female</td>\n",
       "      <td>1.0</td>\n",
       "      <td>1</td>\n",
       "      <td>1</td>\n",
       "      <td>347742</td>\n",
       "      <td>11.1333</td>\n",
       "      <td>NaN</td>\n",
       "      <td>S</td>\n",
       "    </tr>\n",
       "    <tr>\n",
       "      <th>450</th>\n",
       "      <td>451</td>\n",
       "      <td>2</td>\n",
       "      <td>West, Mr. Edwy Arthur</td>\n",
       "      <td>male</td>\n",
       "      <td>36.0</td>\n",
       "      <td>1</td>\n",
       "      <td>2</td>\n",
       "      <td>C.A. 34651</td>\n",
       "      <td>27.7500</td>\n",
       "      <td>NaN</td>\n",
       "      <td>S</td>\n",
       "    </tr>\n",
       "    <tr>\n",
       "      <th>314</th>\n",
       "      <td>315</td>\n",
       "      <td>2</td>\n",
       "      <td>Hart, Mr. Benjamin</td>\n",
       "      <td>male</td>\n",
       "      <td>43.0</td>\n",
       "      <td>1</td>\n",
       "      <td>1</td>\n",
       "      <td>F.C.C. 13529</td>\n",
       "      <td>26.2500</td>\n",
       "      <td>NaN</td>\n",
       "      <td>S</td>\n",
       "    </tr>\n",
       "  </tbody>\n",
       "</table>\n",
       "</div>"
      ],
      "text/plain": [
       "     PassengerId  Pclass                          Name     Sex   Age  SibSp  \\\n",
       "445          446       1     Dodge, Master. Washington    male   4.0      0   \n",
       "650          651       3             Mitkoff, Mr. Mito    male   NaN      0   \n",
       "172          173       3  Johnson, Miss. Eleanor Ileen  female   1.0      1   \n",
       "450          451       2         West, Mr. Edwy Arthur    male  36.0      1   \n",
       "314          315       2            Hart, Mr. Benjamin    male  43.0      1   \n",
       "\n",
       "     Parch        Ticket     Fare Cabin Embarked  \n",
       "445      2         33638  81.8583   A34        S  \n",
       "650      0        349221   7.8958   NaN        S  \n",
       "172      1        347742  11.1333   NaN        S  \n",
       "450      2    C.A. 34651  27.7500   NaN        S  \n",
       "314      1  F.C.C. 13529  26.2500   NaN        S  "
      ]
     },
     "execution_count": 4,
     "metadata": {},
     "output_type": "execute_result"
    }
   ],
   "source": [
    "X_train.head()"
   ]
  },
  {
   "cell_type": "code",
   "execution_count": 5,
   "metadata": {},
   "outputs": [
    {
     "data": {
      "text/html": [
       "<div>\n",
       "<style scoped>\n",
       "    .dataframe tbody tr th:only-of-type {\n",
       "        vertical-align: middle;\n",
       "    }\n",
       "\n",
       "    .dataframe tbody tr th {\n",
       "        vertical-align: top;\n",
       "    }\n",
       "\n",
       "    .dataframe thead th {\n",
       "        text-align: right;\n",
       "    }\n",
       "</style>\n",
       "<table border=\"1\" class=\"dataframe\">\n",
       "  <thead>\n",
       "    <tr style=\"text-align: right;\">\n",
       "      <th></th>\n",
       "      <th>PassengerId</th>\n",
       "      <th>Pclass</th>\n",
       "      <th>Name</th>\n",
       "      <th>Sex</th>\n",
       "      <th>Age</th>\n",
       "      <th>SibSp</th>\n",
       "      <th>Parch</th>\n",
       "      <th>Ticket</th>\n",
       "      <th>Fare</th>\n",
       "      <th>Cabin</th>\n",
       "      <th>Embarked</th>\n",
       "    </tr>\n",
       "  </thead>\n",
       "  <tbody>\n",
       "    <tr>\n",
       "      <th>709</th>\n",
       "      <td>710</td>\n",
       "      <td>3</td>\n",
       "      <td>Moubarek, Master. Halim Gonios (\"William George\")</td>\n",
       "      <td>male</td>\n",
       "      <td>NaN</td>\n",
       "      <td>1</td>\n",
       "      <td>1</td>\n",
       "      <td>2661</td>\n",
       "      <td>15.2458</td>\n",
       "      <td>NaN</td>\n",
       "      <td>C</td>\n",
       "    </tr>\n",
       "    <tr>\n",
       "      <th>439</th>\n",
       "      <td>440</td>\n",
       "      <td>2</td>\n",
       "      <td>Kvillner, Mr. Johan Henrik Johannesson</td>\n",
       "      <td>male</td>\n",
       "      <td>31.0</td>\n",
       "      <td>0</td>\n",
       "      <td>0</td>\n",
       "      <td>C.A. 18723</td>\n",
       "      <td>10.5000</td>\n",
       "      <td>NaN</td>\n",
       "      <td>S</td>\n",
       "    </tr>\n",
       "    <tr>\n",
       "      <th>840</th>\n",
       "      <td>841</td>\n",
       "      <td>3</td>\n",
       "      <td>Alhomaki, Mr. Ilmari Rudolf</td>\n",
       "      <td>male</td>\n",
       "      <td>20.0</td>\n",
       "      <td>0</td>\n",
       "      <td>0</td>\n",
       "      <td>SOTON/O2 3101287</td>\n",
       "      <td>7.9250</td>\n",
       "      <td>NaN</td>\n",
       "      <td>S</td>\n",
       "    </tr>\n",
       "    <tr>\n",
       "      <th>720</th>\n",
       "      <td>721</td>\n",
       "      <td>2</td>\n",
       "      <td>Harper, Miss. Annie Jessie \"Nina\"</td>\n",
       "      <td>female</td>\n",
       "      <td>6.0</td>\n",
       "      <td>0</td>\n",
       "      <td>1</td>\n",
       "      <td>248727</td>\n",
       "      <td>33.0000</td>\n",
       "      <td>NaN</td>\n",
       "      <td>S</td>\n",
       "    </tr>\n",
       "    <tr>\n",
       "      <th>39</th>\n",
       "      <td>40</td>\n",
       "      <td>3</td>\n",
       "      <td>Nicola-Yarred, Miss. Jamila</td>\n",
       "      <td>female</td>\n",
       "      <td>14.0</td>\n",
       "      <td>1</td>\n",
       "      <td>0</td>\n",
       "      <td>2651</td>\n",
       "      <td>11.2417</td>\n",
       "      <td>NaN</td>\n",
       "      <td>C</td>\n",
       "    </tr>\n",
       "  </tbody>\n",
       "</table>\n",
       "</div>"
      ],
      "text/plain": [
       "     PassengerId  Pclass                                               Name  \\\n",
       "709          710       3  Moubarek, Master. Halim Gonios (\"William George\")   \n",
       "439          440       2             Kvillner, Mr. Johan Henrik Johannesson   \n",
       "840          841       3                        Alhomaki, Mr. Ilmari Rudolf   \n",
       "720          721       2                  Harper, Miss. Annie Jessie \"Nina\"   \n",
       "39            40       3                        Nicola-Yarred, Miss. Jamila   \n",
       "\n",
       "        Sex   Age  SibSp  Parch            Ticket     Fare Cabin Embarked  \n",
       "709    male   NaN      1      1              2661  15.2458   NaN        C  \n",
       "439    male  31.0      0      0        C.A. 18723  10.5000   NaN        S  \n",
       "840    male  20.0      0      0  SOTON/O2 3101287   7.9250   NaN        S  \n",
       "720  female   6.0      0      1            248727  33.0000   NaN        S  \n",
       "39   female  14.0      1      0              2651  11.2417   NaN        C  "
      ]
     },
     "execution_count": 5,
     "metadata": {},
     "output_type": "execute_result"
    }
   ],
   "source": [
    "X_test.head()"
   ]
  },
  {
   "cell_type": "markdown",
   "metadata": {},
   "source": [
    "Os atributos têm o seguinte significado:\n",
    "\n",
    "* **PassengerId**: um identificador único para cada passageiro\n",
    "* **Survived**: esse é o alvo, 0 significa que o passageiro não sobreviveu, enquanto 1 significa que ele/ela sobreviveu.\n",
    "* **Pclass**: classe do passageiro.\n",
    "* **Name**, **Sex**, **Age**: autoexplicativos\n",
    "* **SibSp**: quantos irmãos e cônjuges do passageiro a bordo do Titanic.\n",
    "* **Parch**: quantos filhos e pais do passageiro a bordo do Titanic.\n",
    "* **Ticket**: id do bilhete\n",
    "* **Fare**: preço pago (em libras)\n",
    "* **Cabin**: número da cabine do passageiro\n",
    "* **Embarked**: onde o passageiro embarcou no Titanic\n"
   ]
  },
  {
   "cell_type": "markdown",
   "metadata": {},
   "source": [
    "A coluna `PassengerId` será setada como index."
   ]
  },
  {
   "cell_type": "code",
   "execution_count": 6,
   "metadata": {},
   "outputs": [],
   "source": [
    "train_data_experimento = X_train.copy()\n",
    "test_data_experimento = X_test.copy()\n",
    "\n",
    "train_data = X_train.set_index(\"PassengerId\")\n",
    "test_data = X_test.set_index(\"PassengerId\")"
   ]
  },
  {
   "cell_type": "code",
   "execution_count": 7,
   "metadata": {},
   "outputs": [
    {
     "name": "stdout",
     "output_type": "stream",
     "text": [
      "<class 'pandas.core.frame.DataFrame'>\n",
      "Index: 623 entries, 446 to 103\n",
      "Data columns (total 10 columns):\n",
      " #   Column    Non-Null Count  Dtype  \n",
      "---  ------    --------------  -----  \n",
      " 0   Pclass    623 non-null    int64  \n",
      " 1   Name      623 non-null    object \n",
      " 2   Sex       623 non-null    object \n",
      " 3   Age       499 non-null    float64\n",
      " 4   SibSp     623 non-null    int64  \n",
      " 5   Parch     623 non-null    int64  \n",
      " 6   Ticket    623 non-null    object \n",
      " 7   Fare      623 non-null    float64\n",
      " 8   Cabin     139 non-null    object \n",
      " 9   Embarked  622 non-null    object \n",
      "dtypes: float64(2), int64(3), object(5)\n",
      "memory usage: 53.5+ KB\n"
     ]
    }
   ],
   "source": [
    "train_data.info()"
   ]
  },
  {
   "cell_type": "code",
   "execution_count": 8,
   "metadata": {},
   "outputs": [
    {
     "data": {
      "text/plain": [
       "27.0"
      ]
     },
     "execution_count": 8,
     "metadata": {},
     "output_type": "execute_result"
    }
   ],
   "source": [
    "train_data[train_data[\"Sex\"]==\"female\"][\"Age\"].median()"
   ]
  },
  {
   "cell_type": "markdown",
   "metadata": {},
   "source": [
    "The **Name** and **Ticket** attributes may have some value, but they will be a bit tricky to convert into useful numbers that a model can consume. So for now, we will ignore them."
   ]
  },
  {
   "cell_type": "markdown",
   "metadata": {},
   "source": [
    "Let's take a look at the numerical attributes:"
   ]
  },
  {
   "cell_type": "code",
   "execution_count": 9,
   "metadata": {},
   "outputs": [
    {
     "data": {
      "text/html": [
       "<div>\n",
       "<style scoped>\n",
       "    .dataframe tbody tr th:only-of-type {\n",
       "        vertical-align: middle;\n",
       "    }\n",
       "\n",
       "    .dataframe tbody tr th {\n",
       "        vertical-align: top;\n",
       "    }\n",
       "\n",
       "    .dataframe thead th {\n",
       "        text-align: right;\n",
       "    }\n",
       "</style>\n",
       "<table border=\"1\" class=\"dataframe\">\n",
       "  <thead>\n",
       "    <tr style=\"text-align: right;\">\n",
       "      <th></th>\n",
       "      <th>Pclass</th>\n",
       "      <th>Age</th>\n",
       "      <th>SibSp</th>\n",
       "      <th>Parch</th>\n",
       "      <th>Fare</th>\n",
       "    </tr>\n",
       "  </thead>\n",
       "  <tbody>\n",
       "    <tr>\n",
       "      <th>count</th>\n",
       "      <td>623.000000</td>\n",
       "      <td>499.000000</td>\n",
       "      <td>623.000000</td>\n",
       "      <td>623.000000</td>\n",
       "      <td>623.000000</td>\n",
       "    </tr>\n",
       "    <tr>\n",
       "      <th>mean</th>\n",
       "      <td>2.341894</td>\n",
       "      <td>29.256353</td>\n",
       "      <td>0.576244</td>\n",
       "      <td>0.386838</td>\n",
       "      <td>31.840730</td>\n",
       "    </tr>\n",
       "    <tr>\n",
       "      <th>std</th>\n",
       "      <td>0.819945</td>\n",
       "      <td>14.558567</td>\n",
       "      <td>1.216267</td>\n",
       "      <td>0.807692</td>\n",
       "      <td>51.027372</td>\n",
       "    </tr>\n",
       "    <tr>\n",
       "      <th>min</th>\n",
       "      <td>1.000000</td>\n",
       "      <td>0.420000</td>\n",
       "      <td>0.000000</td>\n",
       "      <td>0.000000</td>\n",
       "      <td>0.000000</td>\n",
       "    </tr>\n",
       "    <tr>\n",
       "      <th>25%</th>\n",
       "      <td>2.000000</td>\n",
       "      <td>20.000000</td>\n",
       "      <td>0.000000</td>\n",
       "      <td>0.000000</td>\n",
       "      <td>7.925000</td>\n",
       "    </tr>\n",
       "    <tr>\n",
       "      <th>50%</th>\n",
       "      <td>3.000000</td>\n",
       "      <td>28.000000</td>\n",
       "      <td>0.000000</td>\n",
       "      <td>0.000000</td>\n",
       "      <td>14.454200</td>\n",
       "    </tr>\n",
       "    <tr>\n",
       "      <th>75%</th>\n",
       "      <td>3.000000</td>\n",
       "      <td>38.000000</td>\n",
       "      <td>1.000000</td>\n",
       "      <td>0.000000</td>\n",
       "      <td>30.750000</td>\n",
       "    </tr>\n",
       "    <tr>\n",
       "      <th>max</th>\n",
       "      <td>3.000000</td>\n",
       "      <td>80.000000</td>\n",
       "      <td>8.000000</td>\n",
       "      <td>6.000000</td>\n",
       "      <td>512.329200</td>\n",
       "    </tr>\n",
       "  </tbody>\n",
       "</table>\n",
       "</div>"
      ],
      "text/plain": [
       "           Pclass         Age       SibSp       Parch        Fare\n",
       "count  623.000000  499.000000  623.000000  623.000000  623.000000\n",
       "mean     2.341894   29.256353    0.576244    0.386838   31.840730\n",
       "std      0.819945   14.558567    1.216267    0.807692   51.027372\n",
       "min      1.000000    0.420000    0.000000    0.000000    0.000000\n",
       "25%      2.000000   20.000000    0.000000    0.000000    7.925000\n",
       "50%      3.000000   28.000000    0.000000    0.000000   14.454200\n",
       "75%      3.000000   38.000000    1.000000    0.000000   30.750000\n",
       "max      3.000000   80.000000    8.000000    6.000000  512.329200"
      ]
     },
     "execution_count": 9,
     "metadata": {},
     "output_type": "execute_result"
    }
   ],
   "source": [
    "train_data.describe()"
   ]
  },
  {
   "cell_type": "code",
   "execution_count": 10,
   "metadata": {},
   "outputs": [
    {
     "data": {
      "text/plain": [
       "Pclass\n",
       "3    352\n",
       "1    139\n",
       "2    132\n",
       "Name: count, dtype: int64"
      ]
     },
     "execution_count": 10,
     "metadata": {},
     "output_type": "execute_result"
    }
   ],
   "source": [
    "train_data[\"Pclass\"].value_counts()"
   ]
  },
  {
   "cell_type": "code",
   "execution_count": 11,
   "metadata": {},
   "outputs": [
    {
     "data": {
      "text/plain": [
       "Sex\n",
       "male      410\n",
       "female    213\n",
       "Name: count, dtype: int64"
      ]
     },
     "execution_count": 11,
     "metadata": {},
     "output_type": "execute_result"
    }
   ],
   "source": [
    "train_data[\"Sex\"].value_counts()"
   ]
  },
  {
   "cell_type": "code",
   "execution_count": 12,
   "metadata": {},
   "outputs": [
    {
     "data": {
      "text/plain": [
       "Embarked\n",
       "S    457\n",
       "C    110\n",
       "Q     55\n",
       "Name: count, dtype: int64"
      ]
     },
     "execution_count": 12,
     "metadata": {},
     "output_type": "execute_result"
    }
   ],
   "source": [
    "train_data[\"Embarked\"].value_counts()"
   ]
  },
  {
   "cell_type": "markdown",
   "metadata": {},
   "source": [
    "\n",
    "O atributo **Embarked** nos diz onde o passageiro embarcou: C = Cherbourg, Q = Queenstown, S = Southampton."
   ]
  },
  {
   "cell_type": "markdown",
   "metadata": {},
   "source": [
    "## Pipeline \n"
   ]
  },
  {
   "cell_type": "markdown",
   "metadata": {},
   "source": [
    "\n",
    "### Variáveis Númericas"
   ]
  },
  {
   "cell_type": "code",
   "execution_count": 13,
   "metadata": {},
   "outputs": [],
   "source": [
    "from sklearn.pipeline import Pipeline\n",
    "from sklearn.impute import SimpleImputer\n",
    "from sklearn.preprocessing import StandardScaler\n",
    "\n",
    "num_pipeline = Pipeline(steps=[\n",
    "    (\"imputer\", SimpleImputer(strategy=\"median\")),\n",
    "    (\"scaler\", StandardScaler())\n",
    "])"
   ]
  },
  {
   "cell_type": "markdown",
   "metadata": {},
   "source": [
    "\n",
    "### Variáveis Categóricas"
   ]
  },
  {
   "cell_type": "code",
   "execution_count": 14,
   "metadata": {},
   "outputs": [],
   "source": [
    "from sklearn.preprocessing import OneHotEncoder\n",
    "\n",
    "cat_pipeline = Pipeline([\n",
    "        (\"imputer\", SimpleImputer(strategy=\"most_frequent\")),\n",
    "        (\"cat_encoder\", OneHotEncoder(sparse=False)),\n",
    "])"
   ]
  },
  {
   "cell_type": "markdown",
   "metadata": {},
   "source": [
    "**Juntando Variáveis Númericas e Categóricas**"
   ]
  },
  {
   "cell_type": "code",
   "execution_count": 15,
   "metadata": {},
   "outputs": [],
   "source": [
    "from sklearn.compose import ColumnTransformer\n",
    "\n",
    "num_attribs = [\"Age\", \"SibSp\", \"Parch\", \"Fare\"]\n",
    "cat_attribs = [\"Pclass\", \"Sex\", \"Embarked\"]\n",
    "\n",
    "preprocess_pipeline = ColumnTransformer(transformers = [\n",
    "        (\"num\", num_pipeline, num_attribs),\n",
    "        (\"cat\", cat_pipeline, cat_attribs),\n",
    "])"
   ]
  },
  {
   "cell_type": "markdown",
   "metadata": {},
   "source": [
    "### Aplica as transformações"
   ]
  },
  {
   "cell_type": "code",
   "execution_count": 16,
   "metadata": {},
   "outputs": [
    {
     "name": "stderr",
     "output_type": "stream",
     "text": [
      "/opt/conda/lib/python3.11/site-packages/sklearn/preprocessing/_encoders.py:975: FutureWarning: `sparse` was renamed to `sparse_output` in version 1.2 and will be removed in 1.4. `sparse_output` is ignored unless you leave `sparse` to its default value.\n",
      "  warnings.warn(\n"
     ]
    },
    {
     "data": {
      "text/plain": [
       "array([[-1.91971935, -0.47416141,  1.99885349, ...,  0.        ,\n",
       "         0.        ,  1.        ],\n",
       "       [-0.0772525 , -0.47416141, -0.47932706, ...,  0.        ,\n",
       "         0.        ,  1.        ],\n",
       "       [-2.15002771,  0.34868694,  0.75976322, ...,  0.        ,\n",
       "         0.        ,  1.        ],\n",
       "       ...,\n",
       "       [ 0.92075038,  1.17153529, -0.47932706, ...,  0.        ,\n",
       "         0.        ,  1.        ],\n",
       "       [-1.15202483,  0.34868694,  1.99885349, ...,  0.        ,\n",
       "         0.        ,  1.        ],\n",
       "       [-0.61463866, -0.47416141,  0.75976322, ...,  0.        ,\n",
       "         0.        ,  1.        ]])"
      ]
     },
     "execution_count": 16,
     "metadata": {},
     "output_type": "execute_result"
    }
   ],
   "source": [
    "X_train = preprocess_pipeline.fit_transform(train_data[num_attribs + cat_attribs])\n",
    "X_train"
   ]
  },
  {
   "cell_type": "code",
   "execution_count": 17,
   "metadata": {},
   "outputs": [
    {
     "data": {
      "text/plain": [
       "445    1\n",
       "650    0\n",
       "172    1\n",
       "450    0\n",
       "314    0\n",
       "      ..\n",
       "106    1\n",
       "270    0\n",
       "860    0\n",
       "435    1\n",
       "102    0\n",
       "Name: Survived, Length: 623, dtype: int64"
      ]
     },
     "execution_count": 17,
     "metadata": {},
     "output_type": "execute_result"
    }
   ],
   "source": [
    "y_train"
   ]
  },
  {
   "cell_type": "markdown",
   "metadata": {},
   "source": [
    "## Treinamento"
   ]
  },
  {
   "cell_type": "markdown",
   "metadata": {},
   "source": [
    "### Modelo 1: `RandomForestClassifier`"
   ]
  },
  {
   "cell_type": "code",
   "execution_count": 18,
   "metadata": {},
   "outputs": [
    {
     "data": {
      "text/html": [
       "<style>#sk-container-id-1 {color: black;}#sk-container-id-1 pre{padding: 0;}#sk-container-id-1 div.sk-toggleable {background-color: white;}#sk-container-id-1 label.sk-toggleable__label {cursor: pointer;display: block;width: 100%;margin-bottom: 0;padding: 0.3em;box-sizing: border-box;text-align: center;}#sk-container-id-1 label.sk-toggleable__label-arrow:before {content: \"▸\";float: left;margin-right: 0.25em;color: #696969;}#sk-container-id-1 label.sk-toggleable__label-arrow:hover:before {color: black;}#sk-container-id-1 div.sk-estimator:hover label.sk-toggleable__label-arrow:before {color: black;}#sk-container-id-1 div.sk-toggleable__content {max-height: 0;max-width: 0;overflow: hidden;text-align: left;background-color: #f0f8ff;}#sk-container-id-1 div.sk-toggleable__content pre {margin: 0.2em;color: black;border-radius: 0.25em;background-color: #f0f8ff;}#sk-container-id-1 input.sk-toggleable__control:checked~div.sk-toggleable__content {max-height: 200px;max-width: 100%;overflow: auto;}#sk-container-id-1 input.sk-toggleable__control:checked~label.sk-toggleable__label-arrow:before {content: \"▾\";}#sk-container-id-1 div.sk-estimator input.sk-toggleable__control:checked~label.sk-toggleable__label {background-color: #d4ebff;}#sk-container-id-1 div.sk-label input.sk-toggleable__control:checked~label.sk-toggleable__label {background-color: #d4ebff;}#sk-container-id-1 input.sk-hidden--visually {border: 0;clip: rect(1px 1px 1px 1px);clip: rect(1px, 1px, 1px, 1px);height: 1px;margin: -1px;overflow: hidden;padding: 0;position: absolute;width: 1px;}#sk-container-id-1 div.sk-estimator {font-family: monospace;background-color: #f0f8ff;border: 1px dotted black;border-radius: 0.25em;box-sizing: border-box;margin-bottom: 0.5em;}#sk-container-id-1 div.sk-estimator:hover {background-color: #d4ebff;}#sk-container-id-1 div.sk-parallel-item::after {content: \"\";width: 100%;border-bottom: 1px solid gray;flex-grow: 1;}#sk-container-id-1 div.sk-label:hover label.sk-toggleable__label {background-color: #d4ebff;}#sk-container-id-1 div.sk-serial::before {content: \"\";position: absolute;border-left: 1px solid gray;box-sizing: border-box;top: 0;bottom: 0;left: 50%;z-index: 0;}#sk-container-id-1 div.sk-serial {display: flex;flex-direction: column;align-items: center;background-color: white;padding-right: 0.2em;padding-left: 0.2em;position: relative;}#sk-container-id-1 div.sk-item {position: relative;z-index: 1;}#sk-container-id-1 div.sk-parallel {display: flex;align-items: stretch;justify-content: center;background-color: white;position: relative;}#sk-container-id-1 div.sk-item::before, #sk-container-id-1 div.sk-parallel-item::before {content: \"\";position: absolute;border-left: 1px solid gray;box-sizing: border-box;top: 0;bottom: 0;left: 50%;z-index: -1;}#sk-container-id-1 div.sk-parallel-item {display: flex;flex-direction: column;z-index: 1;position: relative;background-color: white;}#sk-container-id-1 div.sk-parallel-item:first-child::after {align-self: flex-end;width: 50%;}#sk-container-id-1 div.sk-parallel-item:last-child::after {align-self: flex-start;width: 50%;}#sk-container-id-1 div.sk-parallel-item:only-child::after {width: 0;}#sk-container-id-1 div.sk-dashed-wrapped {border: 1px dashed gray;margin: 0 0.4em 0.5em 0.4em;box-sizing: border-box;padding-bottom: 0.4em;background-color: white;}#sk-container-id-1 div.sk-label label {font-family: monospace;font-weight: bold;display: inline-block;line-height: 1.2em;}#sk-container-id-1 div.sk-label-container {text-align: center;}#sk-container-id-1 div.sk-container {/* jupyter's `normalize.less` sets `[hidden] { display: none; }` but bootstrap.min.css set `[hidden] { display: none !important; }` so we also need the `!important` here to be able to override the default hidden behavior on the sphinx rendered scikit-learn.org. See: https://github.com/scikit-learn/scikit-learn/issues/21755 */display: inline-block !important;position: relative;}#sk-container-id-1 div.sk-text-repr-fallback {display: none;}</style><div id=\"sk-container-id-1\" class=\"sk-top-container\"><div class=\"sk-text-repr-fallback\"><pre>RandomForestClassifier(random_state=42)</pre><b>In a Jupyter environment, please rerun this cell to show the HTML representation or trust the notebook. <br />On GitHub, the HTML representation is unable to render, please try loading this page with nbviewer.org.</b></div><div class=\"sk-container\" hidden><div class=\"sk-item\"><div class=\"sk-estimator sk-toggleable\"><input class=\"sk-toggleable__control sk-hidden--visually\" id=\"sk-estimator-id-1\" type=\"checkbox\" checked><label for=\"sk-estimator-id-1\" class=\"sk-toggleable__label sk-toggleable__label-arrow\">RandomForestClassifier</label><div class=\"sk-toggleable__content\"><pre>RandomForestClassifier(random_state=42)</pre></div></div></div></div></div>"
      ],
      "text/plain": [
       "RandomForestClassifier(random_state=42)"
      ]
     },
     "execution_count": 18,
     "metadata": {},
     "output_type": "execute_result"
    }
   ],
   "source": [
    "from sklearn.ensemble import RandomForestClassifier\n",
    "\n",
    "forest_clf = RandomForestClassifier(n_estimators=100, random_state=42)\n",
    "forest_clf.fit(X_train, y_train)"
   ]
  },
  {
   "cell_type": "markdown",
   "metadata": {},
   "source": [
    "**Realiza as previções na base de teste**\n"
   ]
  },
  {
   "cell_type": "code",
   "execution_count": 19,
   "metadata": {},
   "outputs": [],
   "source": [
    "X_test = preprocess_pipeline.transform(test_data[num_attribs + cat_attribs])\n",
    "y_pred = forest_clf.predict(X_test)"
   ]
  },
  {
   "cell_type": "markdown",
   "metadata": {},
   "source": [
    "**Realiza as a cross validation**"
   ]
  },
  {
   "cell_type": "code",
   "execution_count": 20,
   "metadata": {},
   "outputs": [
    {
     "name": "stdout",
     "output_type": "stream",
     "text": [
      "Metricas de treinamento durante o cross validation:\n"
     ]
    },
    {
     "data": {
      "text/plain": [
       "{'Accuracy': 0.7995135688684075,\n",
       " 'Precision': 0.7592402653321014,\n",
       " 'Recall': 0.6971014492753623,\n",
       " 'F1 Score': 0.7218706000693578,\n",
       " 'roc_auc': 0.8426714046822743}"
      ]
     },
     "execution_count": 20,
     "metadata": {},
     "output_type": "execute_result"
    }
   ],
   "source": [
    "# from sklearn.model_selection import cross_val_score\n",
    "# `cross_val_score`: Calcula uma métrica por vez \n",
    "# forest_scores = cross_val_score(forest_clf, X_train, y_train, cv=10, scoring='accuracy')\n",
    "# forest_scores.mean()\n",
    "# Saída: 0.7995135688684075\n",
    "\n",
    "from sklearn.model_selection import cross_validate\n",
    "\n",
    "# Realizar a validação cruzada com várias métricas\n",
    "scoring = ['accuracy', 'precision', 'recall', 'f1', 'roc_auc']\n",
    "forest_scores = cross_validate(estimator=forest_clf, X=X_train,  y=y_train, cv=10, scoring=scoring)\n",
    "\n",
    "# Calcular as médias das métricas\n",
    "accuracy = forest_scores['test_accuracy']\n",
    "precision = forest_scores['test_precision']\n",
    "recall = forest_scores['test_recall']\n",
    "f1 = forest_scores['test_f1']\n",
    "roc_auc = forest_scores['test_roc_auc']\n",
    "\n",
    "metrics_forest_scores_cv = {\n",
    "    'Accuracy': accuracy.mean(),\n",
    "    'Precision': precision.mean(),\n",
    "    'Recall': recall.mean(),\n",
    "    'F1 Score': f1.mean(),\n",
    "    'roc_auc':roc_auc.mean()\n",
    "}\n",
    "print(f'Metricas de treinamento durante o cross validation:')\n",
    "metrics_forest_scores_cv"
   ]
  },
  {
   "cell_type": "code",
   "execution_count": 21,
   "metadata": {},
   "outputs": [
    {
     "data": {
      "image/png": "[encoded data removed]",
      "text/plain": [
       "<Figure size 600x200 with 1 Axes>"
      ]
     },
     "metadata": {},
     "output_type": "display_data"
    }
   ],
   "source": [
    "import matplotlib.pyplot as plt\n",
    "\n",
    "plt.figure(figsize=(6, 2))\n",
    "bars = plt.bar(metrics_forest_scores_cv.keys(), metrics_forest_scores_cv.values(), color=['blue', 'green', 'red', 'purple'])\n",
    "plt.xlabel('Métrica')\n",
    "plt.ylabel('Valor Médio')\n",
    "plt.title('Médias das Métricas de Validação Cruzada')\n",
    "plt.ylim(0, 1)\n",
    "\n",
    "# Adicionar rótulos nas barras\n",
    "for bar in bars:\n",
    "    yval = bar.get_height()\n",
    "    plt.text(bar.get_x() + bar.get_width()/2, yval, round(yval, 2), va='bottom')  # Ajustar posição do rótulo\n",
    "\n",
    "plt.show()"
   ]
  },
  {
   "cell_type": "markdown",
   "metadata": {},
   "source": [
    "### Modelo 2: `Support Vector Classifier (SVC)`"
   ]
  },
  {
   "cell_type": "code",
   "execution_count": 22,
   "metadata": {},
   "outputs": [
    {
     "name": "stdout",
     "output_type": "stream",
     "text": [
      "Metricas de treinamento durante o cross validation:\n"
     ]
    },
    {
     "data": {
      "text/plain": [
       "{'Accuracy': 0.8217869943676395,\n",
       " 'Precision': 0.7865144085510218,\n",
       " 'Recall (Sensitivity/True Positive Rate)': 0.7144927536231884,\n",
       " 'F1 Score': 0.7484230371860258,\n",
       " 'roc_auc': 0.8297979375696768}"
      ]
     },
     "execution_count": 22,
     "metadata": {},
     "output_type": "execute_result"
    }
   ],
   "source": [
    "from sklearn.svm import SVC\n",
    "\n",
    "svm_clf = SVC(gamma=\"auto\")\n",
    "\n",
    "scoring = ['accuracy', 'precision', 'recall', 'f1', 'roc_auc']\n",
    "svm_scores = cross_validate(svm_clf, X_train, y_train, cv=10, scoring=scoring)\n",
    "\n",
    "# Calcular as médias das métricas\n",
    "accuracy = svm_scores['test_accuracy']\n",
    "precision = svm_scores['test_precision']\n",
    "recall = svm_scores['test_recall']\n",
    "f1 = svm_scores['test_f1']\n",
    "roc_auc = svm_scores['test_roc_auc']\n",
    "\n",
    "metrics_svm_scores_cv = {\n",
    "    'Accuracy': accuracy.mean(),\n",
    "    'Precision': precision.mean(),\n",
    "    'Recall (Sensitivity/True Positive Rate)': recall.mean(),\n",
    "    'F1 Score': f1.mean(),\n",
    "    'roc_auc':roc_auc.mean()\n",
    "}\n",
    "print(f'Metricas de treinamento durante o cross validation:')\n",
    "metrics_svm_scores_cv"
   ]
  },
  {
   "cell_type": "markdown",
   "metadata": {},
   "source": [
    "Plot da `accuracy` média ao longo das 10 dobras de validação cruzada, usando a função `boxplot()`.\n",
    "\n",
    "Especificamente: \n",
    "- Quartil inferior é $Q_1$\n",
    "- Quartil superior é $Q_3$\n",
    "- Intervalo interquartil $IQR = Q_3 - Q_1$ (esta é a altura da caixa)\n",
    "- Qualquer pontuação menor que $Q_1 - 1.5 \\times IQR$ é um `outlier` \n",
    "- Qualquer pontuação maior que $Q_3 + 1.5 \\times IQR$é um `outlier`"
   ]
  },
  {
   "cell_type": "code",
   "execution_count": 23,
   "metadata": {},
   "outputs": [],
   "source": [
    "# plt.plot([1]*10, svm_scores, \".\"): Plota os pontos de dados de precisão do SVM (svm_scores). \n",
    "# [1]*10 cria uma lista com dez números 1, o que posiciona todos os pontos do SVM na linha vertical x=1 no gráfico. \n",
    "# O parâmetro \".\" indica que os pontos devem ser plotados como marcadores de ponto (dots)."
   ]
  },
  {
   "cell_type": "code",
   "execution_count": 24,
   "metadata": {},
   "outputs": [
    {
     "data": {
      "image/png": "[encoded data removed]",
      "text/plain": [
       "<Figure size 800x400 with 1 Axes>"
      ]
     },
     "metadata": {},
     "output_type": "display_data"
    }
   ],
   "source": [
    "import matplotlib.pyplot as plt\n",
    "\n",
    "plt.figure(figsize=(8, 4))\n",
    "plt.plot([1]*10, svm_scores['test_accuracy'], \".\") \n",
    "plt.plot([2]*10, forest_scores['test_accuracy'], \".\")\n",
    "plt.boxplot([svm_scores['test_accuracy'], forest_scores['test_accuracy']], labels=(\"SVM\",\"Random Forest\"))\n",
    "plt.ylabel(\"Accuracy\", fontsize=14)\n",
    "plt.show()"
   ]
  },
  {
   "cell_type": "markdown",
   "metadata": {},
   "source": [
    "O classificador de floresta aleatória obteve uma pontuação muito alta em uma das 10 dobras, mas, no geral, teve uma pontuação média mais baixa, bem como uma dispersão maior, então parece que o classificador SVM é mais provável de generalizar bem."
   ]
  },
  {
   "cell_type": "markdown",
   "metadata": {},
   "source": [
    "## Previsões:"
   ]
  },
  {
   "cell_type": "code",
   "execution_count": 25,
   "metadata": {},
   "outputs": [
    {
     "data": {
      "text/html": [
       "<div>\n",
       "<style scoped>\n",
       "    .dataframe tbody tr th:only-of-type {\n",
       "        vertical-align: middle;\n",
       "    }\n",
       "\n",
       "    .dataframe tbody tr th {\n",
       "        vertical-align: top;\n",
       "    }\n",
       "\n",
       "    .dataframe thead th {\n",
       "        text-align: right;\n",
       "    }\n",
       "</style>\n",
       "<table border=\"1\" class=\"dataframe\">\n",
       "  <thead>\n",
       "    <tr style=\"text-align: right;\">\n",
       "      <th></th>\n",
       "      <th>PassengerId</th>\n",
       "      <th>Pclass</th>\n",
       "      <th>Name</th>\n",
       "      <th>Sex</th>\n",
       "      <th>Age</th>\n",
       "      <th>SibSp</th>\n",
       "      <th>Parch</th>\n",
       "      <th>Ticket</th>\n",
       "      <th>Fare</th>\n",
       "      <th>Cabin</th>\n",
       "      <th>Embarked</th>\n",
       "      <th>Survived</th>\n",
       "    </tr>\n",
       "  </thead>\n",
       "  <tbody>\n",
       "    <tr>\n",
       "      <th>709</th>\n",
       "      <td>710</td>\n",
       "      <td>3</td>\n",
       "      <td>Moubarek, Master. Halim Gonios (\"William George\")</td>\n",
       "      <td>male</td>\n",
       "      <td>NaN</td>\n",
       "      <td>1</td>\n",
       "      <td>1</td>\n",
       "      <td>2661</td>\n",
       "      <td>15.2458</td>\n",
       "      <td>NaN</td>\n",
       "      <td>C</td>\n",
       "      <td>1</td>\n",
       "    </tr>\n",
       "    <tr>\n",
       "      <th>439</th>\n",
       "      <td>440</td>\n",
       "      <td>2</td>\n",
       "      <td>Kvillner, Mr. Johan Henrik Johannesson</td>\n",
       "      <td>male</td>\n",
       "      <td>31.0</td>\n",
       "      <td>0</td>\n",
       "      <td>0</td>\n",
       "      <td>C.A. 18723</td>\n",
       "      <td>10.5000</td>\n",
       "      <td>NaN</td>\n",
       "      <td>S</td>\n",
       "      <td>0</td>\n",
       "    </tr>\n",
       "    <tr>\n",
       "      <th>840</th>\n",
       "      <td>841</td>\n",
       "      <td>3</td>\n",
       "      <td>Alhomaki, Mr. Ilmari Rudolf</td>\n",
       "      <td>male</td>\n",
       "      <td>20.0</td>\n",
       "      <td>0</td>\n",
       "      <td>0</td>\n",
       "      <td>SOTON/O2 3101287</td>\n",
       "      <td>7.9250</td>\n",
       "      <td>NaN</td>\n",
       "      <td>S</td>\n",
       "      <td>0</td>\n",
       "    </tr>\n",
       "    <tr>\n",
       "      <th>720</th>\n",
       "      <td>721</td>\n",
       "      <td>2</td>\n",
       "      <td>Harper, Miss. Annie Jessie \"Nina\"</td>\n",
       "      <td>female</td>\n",
       "      <td>6.0</td>\n",
       "      <td>0</td>\n",
       "      <td>1</td>\n",
       "      <td>248727</td>\n",
       "      <td>33.0000</td>\n",
       "      <td>NaN</td>\n",
       "      <td>S</td>\n",
       "      <td>1</td>\n",
       "    </tr>\n",
       "    <tr>\n",
       "      <th>39</th>\n",
       "      <td>40</td>\n",
       "      <td>3</td>\n",
       "      <td>Nicola-Yarred, Miss. Jamila</td>\n",
       "      <td>female</td>\n",
       "      <td>14.0</td>\n",
       "      <td>1</td>\n",
       "      <td>0</td>\n",
       "      <td>2651</td>\n",
       "      <td>11.2417</td>\n",
       "      <td>NaN</td>\n",
       "      <td>C</td>\n",
       "      <td>1</td>\n",
       "    </tr>\n",
       "  </tbody>\n",
       "</table>\n",
       "</div>"
      ],
      "text/plain": [
       "     PassengerId  Pclass                                               Name  \\\n",
       "709          710       3  Moubarek, Master. Halim Gonios (\"William George\")   \n",
       "439          440       2             Kvillner, Mr. Johan Henrik Johannesson   \n",
       "840          841       3                        Alhomaki, Mr. Ilmari Rudolf   \n",
       "720          721       2                  Harper, Miss. Annie Jessie \"Nina\"   \n",
       "39            40       3                        Nicola-Yarred, Miss. Jamila   \n",
       "\n",
       "        Sex   Age  SibSp  Parch            Ticket     Fare Cabin Embarked  \\\n",
       "709    male   NaN      1      1              2661  15.2458   NaN        C   \n",
       "439    male  31.0      0      0        C.A. 18723  10.5000   NaN        S   \n",
       "840    male  20.0      0      0  SOTON/O2 3101287   7.9250   NaN        S   \n",
       "720  female   6.0      0      1            248727  33.0000   NaN        S   \n",
       "39   female  14.0      1      0              2651  11.2417   NaN        C   \n",
       "\n",
       "     Survived  \n",
       "709         1  \n",
       "439         0  \n",
       "840         0  \n",
       "720         1  \n",
       "39          1  "
      ]
     },
     "execution_count": 25,
     "metadata": {},
     "output_type": "execute_result"
    }
   ],
   "source": [
    "# Aqui os Index serão usados como chave\n",
    "test_data_experimento['Survived'] = y_test\n",
    "test_data_experimento.head()"
   ]
  },
  {
   "cell_type": "code",
   "execution_count": 26,
   "metadata": {},
   "outputs": [
    {
     "data": {
      "text/html": [
       "<div>\n",
       "<style scoped>\n",
       "    .dataframe tbody tr th:only-of-type {\n",
       "        vertical-align: middle;\n",
       "    }\n",
       "\n",
       "    .dataframe tbody tr th {\n",
       "        vertical-align: top;\n",
       "    }\n",
       "\n",
       "    .dataframe thead th {\n",
       "        text-align: right;\n",
       "    }\n",
       "</style>\n",
       "<table border=\"1\" class=\"dataframe\">\n",
       "  <thead>\n",
       "    <tr style=\"text-align: right;\">\n",
       "      <th></th>\n",
       "      <th>PassengerId</th>\n",
       "      <th>Pclass</th>\n",
       "      <th>Name</th>\n",
       "      <th>Sex</th>\n",
       "      <th>Age</th>\n",
       "      <th>SibSp</th>\n",
       "      <th>Parch</th>\n",
       "      <th>Ticket</th>\n",
       "      <th>Fare</th>\n",
       "      <th>Cabin</th>\n",
       "      <th>Embarked</th>\n",
       "      <th>Survived</th>\n",
       "      <th>y_predi_forest_clf</th>\n",
       "      <th>y_proba_forest_clf</th>\n",
       "    </tr>\n",
       "  </thead>\n",
       "  <tbody>\n",
       "    <tr>\n",
       "      <th>709</th>\n",
       "      <td>710</td>\n",
       "      <td>3</td>\n",
       "      <td>Moubarek, Master. Halim Gonios (\"William George\")</td>\n",
       "      <td>male</td>\n",
       "      <td>NaN</td>\n",
       "      <td>1</td>\n",
       "      <td>1</td>\n",
       "      <td>2661</td>\n",
       "      <td>15.2458</td>\n",
       "      <td>NaN</td>\n",
       "      <td>C</td>\n",
       "      <td>1</td>\n",
       "      <td>0</td>\n",
       "      <td>0.34</td>\n",
       "    </tr>\n",
       "    <tr>\n",
       "      <th>439</th>\n",
       "      <td>440</td>\n",
       "      <td>2</td>\n",
       "      <td>Kvillner, Mr. Johan Henrik Johannesson</td>\n",
       "      <td>male</td>\n",
       "      <td>31.0</td>\n",
       "      <td>0</td>\n",
       "      <td>0</td>\n",
       "      <td>C.A. 18723</td>\n",
       "      <td>10.5000</td>\n",
       "      <td>NaN</td>\n",
       "      <td>S</td>\n",
       "      <td>0</td>\n",
       "      <td>0</td>\n",
       "      <td>0.03</td>\n",
       "    </tr>\n",
       "    <tr>\n",
       "      <th>840</th>\n",
       "      <td>841</td>\n",
       "      <td>3</td>\n",
       "      <td>Alhomaki, Mr. Ilmari Rudolf</td>\n",
       "      <td>male</td>\n",
       "      <td>20.0</td>\n",
       "      <td>0</td>\n",
       "      <td>0</td>\n",
       "      <td>SOTON/O2 3101287</td>\n",
       "      <td>7.9250</td>\n",
       "      <td>NaN</td>\n",
       "      <td>S</td>\n",
       "      <td>0</td>\n",
       "      <td>0</td>\n",
       "      <td>0.04</td>\n",
       "    </tr>\n",
       "    <tr>\n",
       "      <th>720</th>\n",
       "      <td>721</td>\n",
       "      <td>2</td>\n",
       "      <td>Harper, Miss. Annie Jessie \"Nina\"</td>\n",
       "      <td>female</td>\n",
       "      <td>6.0</td>\n",
       "      <td>0</td>\n",
       "      <td>1</td>\n",
       "      <td>248727</td>\n",
       "      <td>33.0000</td>\n",
       "      <td>NaN</td>\n",
       "      <td>S</td>\n",
       "      <td>1</td>\n",
       "      <td>1</td>\n",
       "      <td>0.99</td>\n",
       "    </tr>\n",
       "    <tr>\n",
       "      <th>39</th>\n",
       "      <td>40</td>\n",
       "      <td>3</td>\n",
       "      <td>Nicola-Yarred, Miss. Jamila</td>\n",
       "      <td>female</td>\n",
       "      <td>14.0</td>\n",
       "      <td>1</td>\n",
       "      <td>0</td>\n",
       "      <td>2651</td>\n",
       "      <td>11.2417</td>\n",
       "      <td>NaN</td>\n",
       "      <td>C</td>\n",
       "      <td>1</td>\n",
       "      <td>0</td>\n",
       "      <td>0.28</td>\n",
       "    </tr>\n",
       "  </tbody>\n",
       "</table>\n",
       "</div>"
      ],
      "text/plain": [
       "     PassengerId  Pclass                                               Name  \\\n",
       "709          710       3  Moubarek, Master. Halim Gonios (\"William George\")   \n",
       "439          440       2             Kvillner, Mr. Johan Henrik Johannesson   \n",
       "840          841       3                        Alhomaki, Mr. Ilmari Rudolf   \n",
       "720          721       2                  Harper, Miss. Annie Jessie \"Nina\"   \n",
       "39            40       3                        Nicola-Yarred, Miss. Jamila   \n",
       "\n",
       "        Sex   Age  SibSp  Parch            Ticket     Fare Cabin Embarked  \\\n",
       "709    male   NaN      1      1              2661  15.2458   NaN        C   \n",
       "439    male  31.0      0      0        C.A. 18723  10.5000   NaN        S   \n",
       "840    male  20.0      0      0  SOTON/O2 3101287   7.9250   NaN        S   \n",
       "720  female   6.0      0      1            248727  33.0000   NaN        S   \n",
       "39   female  14.0      1      0              2651  11.2417   NaN        C   \n",
       "\n",
       "     Survived  y_predi_forest_clf  y_proba_forest_clf  \n",
       "709         1                   0                0.34  \n",
       "439         0                   0                0.03  \n",
       "840         0                   0                0.04  \n",
       "720         1                   1                0.99  \n",
       "39          1                   0                0.28  "
      ]
     },
     "execution_count": 26,
     "metadata": {},
     "output_type": "execute_result"
    }
   ],
   "source": [
    "# Prever as probabilidades das classes com a `Randon Florest`\n",
    "# A primeira coluna contém as probabilidades da classe negativa (geralmente 0)\n",
    "# A segunda coluna contém as probabilidades da classe positiva (geralmente 1)\n",
    "y_predi_forest_clf = forest_clf.predict(X_test) # Previsão\n",
    "y_proba_forest_clf = forest_clf.predict_proba(X_test)[:, 1] # Probabilidade\n",
    "\n",
    "# Cria colunas com as previsões e as probabilidades da `Randon Florest`\n",
    "test_data_experimento['y_predi_forest_clf'] = y_predi_forest_clf\n",
    "test_data_experimento['y_proba_forest_clf'] = y_proba_forest_clf\n",
    "test_data_experimento.head()"
   ]
  },
  {
   "cell_type": "code",
   "execution_count": 27,
   "metadata": {},
   "outputs": [
    {
     "data": {
      "text/html": [
       "<div>\n",
       "<style scoped>\n",
       "    .dataframe tbody tr th:only-of-type {\n",
       "        vertical-align: middle;\n",
       "    }\n",
       "\n",
       "    .dataframe tbody tr th {\n",
       "        vertical-align: top;\n",
       "    }\n",
       "\n",
       "    .dataframe thead th {\n",
       "        text-align: right;\n",
       "    }\n",
       "</style>\n",
       "<table border=\"1\" class=\"dataframe\">\n",
       "  <thead>\n",
       "    <tr style=\"text-align: right;\">\n",
       "      <th></th>\n",
       "      <th>PassengerId</th>\n",
       "      <th>Pclass</th>\n",
       "      <th>Name</th>\n",
       "      <th>Sex</th>\n",
       "      <th>Age</th>\n",
       "      <th>SibSp</th>\n",
       "      <th>Parch</th>\n",
       "      <th>Ticket</th>\n",
       "      <th>Fare</th>\n",
       "      <th>Cabin</th>\n",
       "      <th>Embarked</th>\n",
       "      <th>Survived</th>\n",
       "      <th>y_predi_forest_clf</th>\n",
       "      <th>y_proba_forest_clf</th>\n",
       "      <th>y_predi_svm_clf</th>\n",
       "      <th>y_proba_svm_clf</th>\n",
       "    </tr>\n",
       "  </thead>\n",
       "  <tbody>\n",
       "    <tr>\n",
       "      <th>709</th>\n",
       "      <td>710</td>\n",
       "      <td>3</td>\n",
       "      <td>Moubarek, Master. Halim Gonios (\"William George\")</td>\n",
       "      <td>male</td>\n",
       "      <td>NaN</td>\n",
       "      <td>1</td>\n",
       "      <td>1</td>\n",
       "      <td>2661</td>\n",
       "      <td>15.2458</td>\n",
       "      <td>NaN</td>\n",
       "      <td>C</td>\n",
       "      <td>1</td>\n",
       "      <td>0</td>\n",
       "      <td>0.34</td>\n",
       "      <td>0</td>\n",
       "      <td>0.169166</td>\n",
       "    </tr>\n",
       "    <tr>\n",
       "      <th>439</th>\n",
       "      <td>440</td>\n",
       "      <td>2</td>\n",
       "      <td>Kvillner, Mr. Johan Henrik Johannesson</td>\n",
       "      <td>male</td>\n",
       "      <td>31.0</td>\n",
       "      <td>0</td>\n",
       "      <td>0</td>\n",
       "      <td>C.A. 18723</td>\n",
       "      <td>10.5000</td>\n",
       "      <td>NaN</td>\n",
       "      <td>S</td>\n",
       "      <td>0</td>\n",
       "      <td>0</td>\n",
       "      <td>0.03</td>\n",
       "      <td>0</td>\n",
       "      <td>0.141231</td>\n",
       "    </tr>\n",
       "    <tr>\n",
       "      <th>840</th>\n",
       "      <td>841</td>\n",
       "      <td>3</td>\n",
       "      <td>Alhomaki, Mr. Ilmari Rudolf</td>\n",
       "      <td>male</td>\n",
       "      <td>20.0</td>\n",
       "      <td>0</td>\n",
       "      <td>0</td>\n",
       "      <td>SOTON/O2 3101287</td>\n",
       "      <td>7.9250</td>\n",
       "      <td>NaN</td>\n",
       "      <td>S</td>\n",
       "      <td>0</td>\n",
       "      <td>0</td>\n",
       "      <td>0.04</td>\n",
       "      <td>0</td>\n",
       "      <td>0.154037</td>\n",
       "    </tr>\n",
       "    <tr>\n",
       "      <th>720</th>\n",
       "      <td>721</td>\n",
       "      <td>2</td>\n",
       "      <td>Harper, Miss. Annie Jessie \"Nina\"</td>\n",
       "      <td>female</td>\n",
       "      <td>6.0</td>\n",
       "      <td>0</td>\n",
       "      <td>1</td>\n",
       "      <td>248727</td>\n",
       "      <td>33.0000</td>\n",
       "      <td>NaN</td>\n",
       "      <td>S</td>\n",
       "      <td>1</td>\n",
       "      <td>1</td>\n",
       "      <td>0.99</td>\n",
       "      <td>1</td>\n",
       "      <td>0.932999</td>\n",
       "    </tr>\n",
       "    <tr>\n",
       "      <th>39</th>\n",
       "      <td>40</td>\n",
       "      <td>3</td>\n",
       "      <td>Nicola-Yarred, Miss. Jamila</td>\n",
       "      <td>female</td>\n",
       "      <td>14.0</td>\n",
       "      <td>1</td>\n",
       "      <td>0</td>\n",
       "      <td>2651</td>\n",
       "      <td>11.2417</td>\n",
       "      <td>NaN</td>\n",
       "      <td>C</td>\n",
       "      <td>1</td>\n",
       "      <td>0</td>\n",
       "      <td>0.28</td>\n",
       "      <td>1</td>\n",
       "      <td>0.740032</td>\n",
       "    </tr>\n",
       "  </tbody>\n",
       "</table>\n",
       "</div>"
      ],
      "text/plain": [
       "     PassengerId  Pclass                                               Name  \\\n",
       "709          710       3  Moubarek, Master. Halim Gonios (\"William George\")   \n",
       "439          440       2             Kvillner, Mr. Johan Henrik Johannesson   \n",
       "840          841       3                        Alhomaki, Mr. Ilmari Rudolf   \n",
       "720          721       2                  Harper, Miss. Annie Jessie \"Nina\"   \n",
       "39            40       3                        Nicola-Yarred, Miss. Jamila   \n",
       "\n",
       "        Sex   Age  SibSp  Parch            Ticket     Fare Cabin Embarked  \\\n",
       "709    male   NaN      1      1              2661  15.2458   NaN        C   \n",
       "439    male  31.0      0      0        C.A. 18723  10.5000   NaN        S   \n",
       "840    male  20.0      0      0  SOTON/O2 3101287   7.9250   NaN        S   \n",
       "720  female   6.0      0      1            248727  33.0000   NaN        S   \n",
       "39   female  14.0      1      0              2651  11.2417   NaN        C   \n",
       "\n",
       "     Survived  y_predi_forest_clf  y_proba_forest_clf  y_predi_svm_clf  \\\n",
       "709         1                   0                0.34                0   \n",
       "439         0                   0                0.03                0   \n",
       "840         0                   0                0.04                0   \n",
       "720         1                   1                0.99                1   \n",
       "39          1                   0                0.28                1   \n",
       "\n",
       "     y_proba_svm_clf  \n",
       "709         0.169166  \n",
       "439         0.141231  \n",
       "840         0.154037  \n",
       "720         0.932999  \n",
       "39          0.740032  "
      ]
     },
     "execution_count": 27,
     "metadata": {},
     "output_type": "execute_result"
    }
   ],
   "source": [
    "# Treinar o modelo SVM com probabilidade ativada\n",
    "svm_clf = SVC(gamma=\"auto\", probability=True)\n",
    "svm_clf.fit(X_train, y_train)\n",
    "\n",
    "# Fazer previsões no conjunto de teste\n",
    "y_predi_svm_clf = svm_clf.predict(X_test)\n",
    "y_proba_svm_clf = svm_clf.predict_proba(X_test)[:, 1]\n",
    "\n",
    "test_data_experimento['y_predi_svm_clf'] = y_predi_svm_clf\n",
    "test_data_experimento['y_proba_svm_clf'] = y_proba_svm_clf\n",
    "test_data_experimento.head()"
   ]
  },
  {
   "cell_type": "markdown",
   "metadata": {},
   "source": [
    "## Salvando as Bases de TREINO e TESTE Escorados"
   ]
  },
  {
   "cell_type": "code",
   "execution_count": 28,
   "metadata": {},
   "outputs": [
    {
     "data": {
      "text/html": [
       "<div>\n",
       "<style scoped>\n",
       "    .dataframe tbody tr th:only-of-type {\n",
       "        vertical-align: middle;\n",
       "    }\n",
       "\n",
       "    .dataframe tbody tr th {\n",
       "        vertical-align: top;\n",
       "    }\n",
       "\n",
       "    .dataframe thead th {\n",
       "        text-align: right;\n",
       "    }\n",
       "</style>\n",
       "<table border=\"1\" class=\"dataframe\">\n",
       "  <thead>\n",
       "    <tr style=\"text-align: right;\">\n",
       "      <th></th>\n",
       "      <th>PassengerId</th>\n",
       "      <th>Pclass</th>\n",
       "      <th>Name</th>\n",
       "      <th>Sex</th>\n",
       "      <th>Age</th>\n",
       "      <th>SibSp</th>\n",
       "      <th>Parch</th>\n",
       "      <th>Ticket</th>\n",
       "      <th>Fare</th>\n",
       "      <th>Cabin</th>\n",
       "      <th>Embarked</th>\n",
       "      <th>Survived</th>\n",
       "      <th>y_predi_forest_clf</th>\n",
       "      <th>y_proba_forest_clf</th>\n",
       "      <th>y_predi_svm_clf</th>\n",
       "      <th>y_proba_svm_clf</th>\n",
       "    </tr>\n",
       "  </thead>\n",
       "  <tbody>\n",
       "    <tr>\n",
       "      <th>445</th>\n",
       "      <td>446</td>\n",
       "      <td>1</td>\n",
       "      <td>Dodge, Master. Washington</td>\n",
       "      <td>male</td>\n",
       "      <td>4.0</td>\n",
       "      <td>0</td>\n",
       "      <td>2</td>\n",
       "      <td>33638</td>\n",
       "      <td>81.8583</td>\n",
       "      <td>A34</td>\n",
       "      <td>S</td>\n",
       "      <td>1</td>\n",
       "      <td>1</td>\n",
       "      <td>0.71</td>\n",
       "      <td>1</td>\n",
       "      <td>0.806414</td>\n",
       "    </tr>\n",
       "    <tr>\n",
       "      <th>650</th>\n",
       "      <td>651</td>\n",
       "      <td>3</td>\n",
       "      <td>Mitkoff, Mr. Mito</td>\n",
       "      <td>male</td>\n",
       "      <td>NaN</td>\n",
       "      <td>0</td>\n",
       "      <td>0</td>\n",
       "      <td>349221</td>\n",
       "      <td>7.8958</td>\n",
       "      <td>NaN</td>\n",
       "      <td>S</td>\n",
       "      <td>0</td>\n",
       "      <td>0</td>\n",
       "      <td>0.00</td>\n",
       "      <td>0</td>\n",
       "      <td>0.144398</td>\n",
       "    </tr>\n",
       "  </tbody>\n",
       "</table>\n",
       "</div>"
      ],
      "text/plain": [
       "     PassengerId  Pclass                       Name   Sex  Age  SibSp  Parch  \\\n",
       "445          446       1  Dodge, Master. Washington  male  4.0      0      2   \n",
       "650          651       3          Mitkoff, Mr. Mito  male  NaN      0      0   \n",
       "\n",
       "     Ticket     Fare Cabin Embarked  Survived  y_predi_forest_clf  \\\n",
       "445   33638  81.8583   A34        S         1                   1   \n",
       "650  349221   7.8958   NaN        S         0                   0   \n",
       "\n",
       "     y_proba_forest_clf  y_predi_svm_clf  y_proba_svm_clf  \n",
       "445                0.71                1         0.806414  \n",
       "650                0.00                0         0.144398  "
      ]
     },
     "execution_count": 28,
     "metadata": {},
     "output_type": "execute_result"
    }
   ],
   "source": [
    "train_data_experimento['Survived'] = y_train\n",
    "# Escorando a base de treino para calculo de PSI e CSI\n",
    "prev_treino_forest_clf = forest_clf.predict(X_train) # Previsão\n",
    "prob_treino_forest_clf = forest_clf.predict_proba(X_train)[:, 1] # Probabilidade\n",
    "train_data_experimento['y_predi_forest_clf'] = prev_treino_forest_clf\n",
    "train_data_experimento['y_proba_forest_clf'] = prob_treino_forest_clf\n",
    "\n",
    "prev_treino_svm_clf = svm_clf.predict(X_train) # Previsão\n",
    "prob_treino_svm_clf = svm_clf.predict_proba(X_train)[:, 1] # Probabilidade\n",
    "train_data_experimento['y_predi_svm_clf'] = prev_treino_svm_clf\n",
    "train_data_experimento['y_proba_svm_clf'] = prob_treino_svm_clf\n",
    "train_data_experimento.head(2)"
   ]
  },
  {
   "cell_type": "code",
   "execution_count": 29,
   "metadata": {},
   "outputs": [],
   "source": [
    "# Salvando a base de teste em formato CSV\n",
    "train_data_experimento.to_csv('./data/processed/train_data_experimento.csv', index=False)\n",
    "test_data_experimento.to_csv('./data/processed/test_data_experimento.csv', index=False)"
   ]
  },
  {
   "cell_type": "markdown",
   "metadata": {},
   "source": [
    "### **Confusion_matrix: `Randon Forest`**"
   ]
  },
  {
   "cell_type": "code",
   "execution_count": 50,
   "metadata": {},
   "outputs": [
    {
     "name": "stdout",
     "output_type": "stream",
     "text": [
      "RandomForestClassifier\n",
      "Acurácia: 0.7873134328358209\n",
      "Precisão: 0.77\n",
      "Recall (Sensitivity/True Positive Rate): 0.6936936936936937\n",
      "F1-Score: 0.7298578199052133\n"
     ]
    }
   ],
   "source": [
    "from sklearn.metrics import confusion_matrix\n",
    "\n",
    "# Supondo que y_test e y_pred estejam definidos\n",
    "Random_confusion_matrix = confusion_matrix(y_true = y_test, y_pred = test_data_experimento['y_predi_forest_clf'])\n",
    "\n",
    "TN_random, FP_random, FN_random, TP_random = Random_confusion_matrix.ravel()\n",
    "# TP_random = Random_confusion_matrix[1, 1]\n",
    "# FP_random = Random_confusion_matrix[0, 1]\n",
    "# TN_random = Random_confusion_matrix[0, 0]\n",
    "# FN_random = Random_confusion_matrix[1, 0]\n",
    "\n",
    "# Calcular métricas manualmente\n",
    "acuracia_random = (TP_random + TN_random) / (TP_random + FP_random + TN_random + FN_random)\n",
    "precisao_random = TP_random / (TP_random + FP_random)\n",
    "recall_random = TP_random / (TP_random + FN_random)\n",
    "f1_score_random = 2 * (precisao_random * recall_random) / (precisao_random + recall_random)\n",
    "\n",
    "print('RandomForestClassifier')\n",
    "print(f\"Acurácia: {acuracia_random}\")\n",
    "print(f\"Precisão: {precisao_random}\")\n",
    "print(f\"Recall (Sensitivity/True Positive Rate): {recall_random}\")\n",
    "print(f\"F1-Score: {f1_score_random}\")"
   ]
  },
  {
   "cell_type": "code",
   "execution_count": 61,
   "metadata": {},
   "outputs": [
    {
     "data": {
      "image/png": "[encoded data removed]",
      "text/plain": [
       "<Figure size 640x480 with 2 Axes>"
      ]
     },
     "metadata": {},
     "output_type": "display_data"
    }
   ],
   "source": [
    "import seaborn as sns\n",
    "import matplotlib.pyplot as plt\n",
    "\n",
    "labels = [\n",
    "    [f'True Negative: {TN_random}', f'False Positive: {FP_random}'],\n",
    "    [f'False Negative: {FN_random}', f'True Positive: {TP_random}'],\n",
    "]\n",
    "sns.heatmap(Random_confusion_matrix, cmap='coolwarm', annot=labels, linewidth=1, fmt='', xticklabels=[\"0\", \"1\"], yticklabels=[\"0\", \"1\"])\n",
    "# Criando o heatmap com rótulos nos eixos\n",
    "plt.xlabel('Predicted label')\n",
    "plt.ylabel('True label')\n",
    "plt.title('Confusion Matrix (TP, FP, FN, TN)')\n",
    "plt.show()"
   ]
  },
  {
   "cell_type": "markdown",
   "metadata": {},
   "source": [
    "### **Confusion_matrix: `SVM`**"
   ]
  },
  {
   "cell_type": "code",
   "execution_count": 57,
   "metadata": {},
   "outputs": [
    {
     "name": "stdout",
     "output_type": "stream",
     "text": [
      "RandomForestClassifier\n",
      "Acurácia: 0.8283582089552238\n",
      "Precisão: 0.8350515463917526\n",
      "Recall (Sensitivity/True Positive Rate): 0.7297297297297297\n",
      "F1-Score: 0.7788461538461539\n"
     ]
    }
   ],
   "source": [
    "from sklearn.metrics import confusion_matrix\n",
    "\n",
    "# Supondo que y_test e y_pred estejam definidos\n",
    "svm_confusion_matrix = confusion_matrix(y_true = y_test, y_pred = test_data_experimento['y_predi_svm_clf'])\n",
    "\n",
    "TN_svm, FP_svm, FN_svm, TP_svm = svm_confusion_matrix.ravel()\n",
    "\n",
    "# TP_svm = svm_confusion_matrix[1, 1]\n",
    "# FP_svm = svm_confusion_matrix[0, 1]\n",
    "# TN_svm = svm_confusion_matrix[0, 0]\n",
    "# FN_svm = svm_confusion_matrix[1, 0]\n",
    "\n",
    "# Calcular métricas manualmente\n",
    "acurácia_svm = (TP_svm + TN_svm) / (TP_svm + FP_svm + TN_svm + FN_svm)\n",
    "precisão_svm = TP_svm / (TP_svm + FP_svm)\n",
    "recall_svm = TP_svm / (TP_svm + FN_svm)\n",
    "f1_score_svm = 2 * (precisão_svm * recall_svm) / (precisão_svm + recall_svm)\n",
    "\n",
    "print('RandomForestClassifier')\n",
    "print(f\"Acurácia: {acurácia_svm}\")\n",
    "print(f\"Precisão: {precisão_svm}\")\n",
    "print(f\"Recall (Sensitivity/True Positive Rate): {recall_svm}\")\n",
    "print(f\"F1-Score: {f1_score_svm}\")"
   ]
  },
  {
   "cell_type": "code",
   "execution_count": 60,
   "metadata": {},
   "outputs": [
    {
     "data": {
      "image/png": "[encoded data removed]",
      "text/plain": [
       "<Figure size 640x480 with 2 Axes>"
      ]
     },
     "metadata": {},
     "output_type": "display_data"
    }
   ],
   "source": [
    "labels = [\n",
    "    [f'True Negative: {TN_svm}', f'False Positive: {FP_svm}'],\n",
    "    [f'False Negative: {FN_svm}', f'True Positive: {TP_svm}'],\n",
    "]\n",
    "\n",
    "sns.heatmap(svm_confusion_matrix, cmap='coolwarm', annot=labels, linewidth=1, fmt='',xticklabels=[\"0\", \"1\"], yticklabels=[\"0\", \"1\"])\n",
    "# Criando o heatmap com rótulos nos eixos\n",
    "plt.xlabel('Predicted label')\n",
    "plt.ylabel('True label')\n",
    "plt.title('Confusion Matrix (TP, FP, FN, TN)')\n",
    "plt.show()"
   ]
  },
  {
   "cell_type": "markdown",
   "metadata": {},
   "source": [
    "## ⚠️ **Diagonais:** \n",
    "\n",
    "- Perceba que a diagonal principal de uma matriz de confusão é formada pelos quadrantes de Verdadeiros Positivos (TP) e Verdadeiros Negativos (TN). Estes valores são particularmente significativos porque representam as previsões corretas do modelo."
   ]
  },
  {
   "cell_type": "markdown",
   "metadata": {},
   "source": [
    "\n",
    "![Imagem](../image/matriz_confusao_hand.png)\n",
    "\n"
   ]
  },
  {
   "cell_type": "markdown",
   "metadata": {},
   "source": [
    "---\n",
    "\n",
    "### **RECALL (Revocação)**\n",
    "\n",
    "> **Taxa de Verdadeiros Positivos (TPR- True Positive Rate) ou Sensibilidade ou Recall (1−FNR):**\n"
   ]
  },
  {
   "cell_type": "markdown",
   "metadata": {},
   "source": [
    "\n",
    "> **Proporção dos verdadeiros positivos em relação ao total de casos positivos reais.**\n",
    "\n",
    "> O foco do recall é na cobertura completa dos casos positivos existentes. \n",
    ">Isso significa que o recall é crucial em situações onde não se pode deixar passar nenhum caso\n",
    "positivo. A fórmula do recall é expressa da seguinte forma:\n",
    "\n",
    "<br> </br>\n",
    "\n",
    "$$\n",
    "\\text{TPR} = \\frac{\\text{True Positives (TP)}}{\\text{True Positives (TP)} + \\text{False Negatives (FN)}}\n",
    "$$"
   ]
  },
  {
   "cell_type": "code",
   "execution_count": 34,
   "metadata": {},
   "outputs": [
    {
     "name": "stdout",
     "output_type": "stream",
     "text": [
      " -- RandomForestClassifier -- \n",
      "TP: 77\n",
      "FN: 34\n",
      "Recall (Sensitivity/True Positive Rate): 0.6936936936936937\n",
      " ---------------------------- \n",
      " -- SVM -- \n",
      "TP: 81\n",
      "FN: 30\n",
      "Recall (Sensitivity/True Positive Rate): 0.7297297297297297\n",
      " ---------------------------- \n"
     ]
    }
   ],
   "source": [
    "print(' -- RandomForestClassifier -- ')\n",
    "print(f'TP: {TP_random}')\n",
    "print(f'FN: {FN_random}')\n",
    "\n",
    "print(f'Recall (Sensitivity/True Positive Rate): {TP_random/(TP_random+FN_random)}')\n",
    "print(' ---------------------------- ')\n",
    "\n",
    "print(' -- SVM -- ')\n",
    "print(f'TP: {TP_svm}')\n",
    "print(f'FN: {FN_svm}')\n",
    "\n",
    "print(f'Recall (Sensitivity/True Positive Rate): {TP_svm/(TP_svm+FN_svm)}')\n",
    "print(' ---------------------------- ')\n"
   ]
  },
  {
   "cell_type": "markdown",
   "metadata": {},
   "source": [
    "---\n",
    "\n",
    "### **Especificidade (Specificity)**\n",
    "\n",
    "> **Taxa de Verdadeiros Negativos (TNR- True Negative Rare) ou Especificidade, (1−FPR)**"
   ]
  },
  {
   "cell_type": "markdown",
   "metadata": {},
   "source": [
    "> **Proporção de verdadeiros negativos em relação ao total de casos negativos reais**.\n",
    "\n",
    "<br> </br>\n",
    "$$\n",
    "\\text{TNR} = \\frac{\\text{True Negatives (TN)}}{\\text{True Negatives (TN)} + \\text{False Positives (FP)}}\n",
    "$$\n"
   ]
  },
  {
   "cell_type": "code",
   "execution_count": 35,
   "metadata": {},
   "outputs": [
    {
     "name": "stdout",
     "output_type": "stream",
     "text": [
      "-- RandomForestClassifier --\n",
      "TN: 134\n",
      "FP: 23\n",
      "Especificidade (TNR- True Negative Rare): 0.8535031847133758\n",
      "\n",
      "-------------\n",
      "\n",
      "-- SVM --\n",
      "TN: 141\n",
      "FP: 16\n",
      "Especificidade (TNR - True Negative Rate): 0.8980891719745223\n"
     ]
    }
   ],
   "source": [
    "print('-- RandomForestClassifier --') \n",
    "print(f'TN: {TN_random}')\n",
    "print(f'FP: {FP_random}')\n",
    "print(f'Especificidade (TNR- True Negative Rare): {TN_random/(TN_random+FP_random)}')\n",
    "print('')\n",
    "print('-------------')\n",
    "print('')\n",
    "print('-- SVM --') \n",
    "print(f'TN: {TN_svm}')\n",
    "print(f'FP: {FP_svm}')\n",
    "print(f'Especificidade (TNR - True Negative Rate): {TN_svm/(TN_svm+FP_svm)}')\n",
    "\n"
   ]
  },
  {
   "cell_type": "markdown",
   "metadata": {},
   "source": [
    "---\n",
    "\n",
    "### **Taxa de Falsos Positivos (FPR - False Positive Rate), (1−TNR)**"
   ]
  },
  {
   "cell_type": "markdown",
   "metadata": {},
   "source": [
    "> **Proporção dos falsos positivos em relação ao total de casos negativos reais.**\n",
    "$$\n",
    "\\text{TPR} = \\frac{\\text{False Positive (FP)}}{\\text{False Positive (FP)} + \\text{True Negative (TN)}}\n",
    "$$"
   ]
  },
  {
   "cell_type": "code",
   "execution_count": 36,
   "metadata": {},
   "outputs": [
    {
     "name": "stdout",
     "output_type": "stream",
     "text": [
      "-- RandomForestClassifier --\n",
      "FP:23\n",
      "TN:134\n",
      "Taxa de Falsos Positivos (FPR - False Positive Rate): 0.1464968152866242\n",
      "\n",
      "-------------\n",
      "\n",
      "-- SVM --\n",
      "FP: 16\n",
      "TN: 141\n",
      "Taxa de Falsos Positivos (FPR - False Positive Rate): 0.10191082802547771\n"
     ]
    }
   ],
   "source": [
    "print('-- RandomForestClassifier --') \n",
    "print(f'FP:{FP_random}')\n",
    "print(f'TN:{TN_random}')\n",
    "print(f'Taxa de Falsos Positivos (FPR - False Positive Rate): {FP_random/(FP_random+TN_random)}')\n",
    "print('')\n",
    "print('-------------')\n",
    "print('')\n",
    "print('-- SVM --') \n",
    "print(f'FP: {FP_svm}')\n",
    "print(f'TN: {TN_svm}')\n",
    "print(f'Taxa de Falsos Positivos (FPR - False Positive Rate): {FP_svm/(FP_svm+TN_svm)}')\n"
   ]
  },
  {
   "cell_type": "markdown",
   "metadata": {},
   "source": [
    "---\n",
    "\n",
    "###  Taxa de Falsos Negativos (FNR - False Negative Rate), (1−TPR):"
   ]
  },
  {
   "cell_type": "markdown",
   "metadata": {},
   "source": [
    "**Proporção de falsos negativos em relação ao total de casos positivos reais**\n",
    "\n",
    "$$\n",
    "\\text{FNP} = \\frac{\\text{False Negative (FN)}}{\\text{False Negative (FN)} + \\text{True Positive (TP)}}\n",
    "$$\n",
    "\n"
   ]
  },
  {
   "cell_type": "code",
   "execution_count": 37,
   "metadata": {},
   "outputs": [
    {
     "name": "stdout",
     "output_type": "stream",
     "text": [
      "-- RandomForestClassifier --\n",
      "FN:34\n",
      "TP:77\n",
      "Taxa de Falsos Negativos (FNR - False Negative Rate): 0.3063063063063063\n",
      "\n",
      "-------------\n",
      "\n",
      "-- SVM --\n",
      "FN: 30\n",
      "TP: 81\n",
      "Taxa de Falsos Negativos (FNR - False Negative Rate): 0.2702702702702703\n"
     ]
    }
   ],
   "source": [
    "print('-- RandomForestClassifier --') \n",
    "print(f'FN:{FN_random}')\n",
    "print(f'TP:{TP_random}')\n",
    "print(f'Taxa de Falsos Negativos (FNR - False Negative Rate): {FN_random/(FN_random+TP_random)}')\n",
    "print('')\n",
    "print('-------------')\n",
    "print('')\n",
    "print('-- SVM --') \n",
    "print(f'FN: {FN_svm}')\n",
    "print(f'TP: {TP_svm}')\n",
    "print(f'Taxa de Falsos Negativos (FNR - False Negative Rate): {FN_svm/(FN_svm+TP_svm)}')\n"
   ]
  },
  {
   "cell_type": "markdown",
   "metadata": {},
   "source": [
    "---\n",
    "\n",
    "### **Precisão (precision)**"
   ]
  },
  {
   "cell_type": "markdown",
   "metadata": {},
   "source": [
    "A precisão é a métrica que avalia a **proporção das previsões verdadeiras positivas em relação ao total de previsões positivas feitas\n",
    "por um modelo.** Matematicamente, ela é calculada como a razão entre os Verdadeiros Positivos (VP ou TP) e a soma dos Verdadeiros Positivos (VP ou TP)\n",
    "e Falsos Positivos (FP). Ou seja, a precisão mede a proporção de previsões positivas que são efetivamente corretas. A fórmula da\n",
    "precisão é a seguinte:"
   ]
  },
  {
   "cell_type": "markdown",
   "metadata": {},
   "source": [
    "\n",
    "$$\\text{Precision} = \\frac{\\text{True Positive (TP)}}{\\text{True Positive (TP)} + \\text{False Positive (FP)}}$$\n",
    "\n",
    "\n"
   ]
  },
  {
   "cell_type": "code",
   "execution_count": 38,
   "metadata": {},
   "outputs": [
    {
     "name": "stdout",
     "output_type": "stream",
     "text": [
      "-- RandomForestClassifier --\n",
      "TP: 77\n",
      "FP: 23\n",
      "Precisão (Precision): 0.77\n",
      "\n",
      "-------------\n",
      "\n",
      "-- SVM --\n",
      "TP: 81\n",
      "FP: 16\n",
      "Precisão (Precision): 0.8350515463917526\n"
     ]
    }
   ],
   "source": [
    "print('-- RandomForestClassifier --')\n",
    "print(f'TP: {TP_random}')\n",
    "print(f'FP: {FP_random}')\n",
    "print(f'Precisão (Precision): {TP_random/(TP_random+FP_random)}')\n",
    "print('')\n",
    "print('-------------')\n",
    "print('')\n",
    "print('-- SVM --')\n",
    "print(f'TP: {TP_svm}')\n",
    "print(f'FP: {FP_svm}')\n",
    "\n",
    "print(f'Precisão (Precision): {TP_svm/(TP_svm+FP_svm)}')\n"
   ]
  },
  {
   "cell_type": "markdown",
   "metadata": {},
   "source": [
    "## Curva ROC AUC"
   ]
  },
  {
   "cell_type": "markdown",
   "metadata": {},
   "source": [
    "* A curva ROC plota a taxa de verdadeiros positivos (recall) contra a taxa de falsos positivos (FPR).\n",
    "* Ela exibe a capacidade de um modelo de classificação em distinguir entre as classes em vários limiares de decisão. Esta curva é construída\n",
    "plotando a **Taxa de Verdadeiros Positivos (TPR)** contra a **Razão de Falsos Positivos (FPR)** em diferentes pontos de corte de probabilidade."
   ]
  },
  {
   "cell_type": "code",
   "execution_count": 39,
   "metadata": {},
   "outputs": [],
   "source": [
    "from sklearn.metrics import roc_auc_score, roc_curve\n",
    "import matplotlib.pyplot as plt"
   ]
  },
  {
   "cell_type": "code",
   "execution_count": 40,
   "metadata": {},
   "outputs": [
    {
     "name": "stdout",
     "output_type": "stream",
     "text": [
      "roc_auc Random Forest: 0.7735984392035348\n",
      "----------\n"
     ]
    },
    {
     "data": {
      "image/png": "[encoded data removed]",
      "text/plain": [
       "<Figure size 640x480 with 1 Axes>"
      ]
     },
     "metadata": {},
     "output_type": "display_data"
    }
   ],
   "source": [
    "\n",
    "# Calcular AUC da curva ROC `Random Forest`\n",
    "roc_auc = roc_auc_score(\n",
    "    y_true=y_test, \n",
    "    y_score=test_data_experimento['y_predi_forest_clf']\n",
    ")\n",
    "print(f'roc_auc Random Forest: {roc_auc}')\n",
    "print('----------')\n",
    "# Calcular os pontos da curva ROC\n",
    "fpr, tpr, thresholds = roc_curve(\n",
    "    y_true=y_test, \n",
    "    y_score=test_data_experimento['y_predi_forest_clf']\n",
    ")\n",
    "\n",
    "# Plotar a curva ROC\n",
    "plt.figure()\n",
    "plt.plot(fpr, tpr, color='darkorange', lw=2, label=f'ROC curve (area = {roc_auc:0.2f})')\n",
    "plt.plot([0, 1], [0, 1], color='navy', lw=2, linestyle='--')\n",
    "plt.xlim([0.0, 1.0])\n",
    "plt.ylim([0.0, 1.05])\n",
    "plt.xlabel('False Positive Rate (Specificity)')\n",
    "plt.ylabel('True Positive Rate (Recall)')\n",
    "plt.title('Receiver Operating Characteristic (ROC) Curve')\n",
    "plt.legend(loc=\"lower right\")\n",
    "plt.show()\n",
    "\n"
   ]
  },
  {
   "cell_type": "code",
   "execution_count": 41,
   "metadata": {},
   "outputs": [
    {
     "name": "stdout",
     "output_type": "stream",
     "text": [
      "roc_auc SVM: 0.8139094508521261\n",
      "----------\n"
     ]
    },
    {
     "data": {
      "image/png": "[encoded data removed]",
      "text/plain": [
       "<Figure size 640x480 with 1 Axes>"
      ]
     },
     "metadata": {},
     "output_type": "display_data"
    }
   ],
   "source": [
    "from sklearn.metrics import roc_auc_score, roc_curve\n",
    "import matplotlib.pyplot as plt\n",
    "\n",
    "# Calcular AUC da curva ROC `SVM`\n",
    "roc_auc = roc_auc_score(\n",
    "    y_true=y_test, \n",
    "    y_score=test_data_experimento['y_predi_svm_clf']\n",
    ")\n",
    "print(f'roc_auc SVM: {roc_auc}')\n",
    "print('----------')\n",
    "\n",
    "# Calcular os pontos da curva ROC\n",
    "fpr, tpr, thresholds = roc_curve(\n",
    "    y_true=y_test, \n",
    "    y_score=test_data_experimento['y_predi_svm_clf']\n",
    ")\n",
    "\n",
    "# Plotar a curva ROC\n",
    "plt.figure()  # Criar uma nova figura para o gráfico\n",
    "plt.plot(fpr, tpr, color='green', lw=2, label=f'ROC curve (area = {roc_auc:0.2f})')  # Plotar a curva ROC\n",
    "plt.plot([0, 1], [0, 1], color='navy', lw=2, linestyle='--')  # Plotar a linha de referência 45 graus\n",
    "plt.xlim([0.0, 1.0])  # Definir os limites do eixo x\n",
    "plt.ylim([0.0, 1.05])  # Definir os limites do eixo y\n",
    "plt.xlabel('False Positive Rate (Specificity)')\n",
    "plt.ylabel('True Positive Rate (Recall)')\n",
    "plt.title('Receiver Operating Characteristic (ROC) Curve')  \n",
    "plt.legend(loc=\"lower right\")  # Adicionar a legenda no canto inferior direito\n",
    "plt.show()  "
   ]
  },
  {
   "cell_type": "code",
   "execution_count": 42,
   "metadata": {},
   "outputs": [],
   "source": [
    "# roc curve for models\n",
    "fpr_1, tpr_1, thresholds_1 = roc_curve(y_true=y_test, y_score=test_data_experimento['y_predi_forest_clf'])\n",
    "fpr_2, tpr_2, thresholds_2 = roc_curve(y_true=y_test, y_score=test_data_experimento['y_predi_svm_clf'])\n",
    "\n",
    "# roc curve for tpr = fpr \n",
    "random_probs = [0 for i in range(len(y_test))]\n",
    "p_fpr, p_tpr, _ = roc_curve(y_test, random_probs, pos_label=1)"
   ]
  },
  {
   "cell_type": "code",
   "execution_count": 43,
   "metadata": {},
   "outputs": [
    {
     "data": {
      "image/png": "[encoded data removed]",
      "text/plain": [
       "<Figure size 640x480 with 1 Axes>"
      ]
     },
     "metadata": {},
     "output_type": "display_data"
    }
   ],
   "source": [
    "import matplotlib.pyplot as plt\n",
    "\n",
    "# Plotando as curvas ROC\n",
    "plt.plot(fpr_1, tpr_1, linestyle='--', color='orange', label='Random Forest')\n",
    "plt.plot(fpr_2, tpr_2, linestyle='--', color='green', label='SVM')\n",
    "plt.plot(p_fpr, p_tpr, linestyle='--', color='blue', label='Classificador P')\n",
    "\n",
    "\n",
    "plt.title('ROC curve')\n",
    "plt.xlabel('False Positive Rate (Specificity)')\n",
    "plt.ylabel('True Positive Rate (Recall)')\n",
    "\n",
    "# Legenda\n",
    "plt.legend(loc='best')\n",
    "# Salvando a figura\n",
    "# plt.savefig('ROC', dpi=300)\n",
    "plt.show()\n"
   ]
  },
  {
   "cell_type": "markdown",
   "metadata": {},
   "source": [
    "* Quanto maior a `revocação (TPR)`, mais `falsos positivos (FPR)` o classificador produz. Conforme aumentamos a\n",
    "revocação, o modelo tende a classificar mais casos como positivos para garantir que está encontrando todos os verdadeiros positivos. No\n",
    "entanto, isso acaba aumentando também o número de falsos positivos."
   ]
  },
  {
   "cell_type": "markdown",
   "metadata": {},
   "source": [
    "### **Curva PR(Precisão/Recall)**"
   ]
  },
  {
   "cell_type": "code",
   "execution_count": 44,
   "metadata": {},
   "outputs": [],
   "source": [
    "from sklearn.metrics import precision_recall_curve, auc\n",
    "import matplotlib.pyplot as plt"
   ]
  },
  {
   "cell_type": "code",
   "execution_count": 45,
   "metadata": {},
   "outputs": [
    {
     "data": {
      "image/png": "[encoded data removed]",
      "text/plain": [
       "<Figure size 640x480 with 1 Axes>"
      ]
     },
     "metadata": {},
     "output_type": "display_data"
    }
   ],
   "source": [
    "# PR(Precisão/Recall)`Random Forest`\n",
    "precisions, recalls, thresholds = precision_recall_curve(y_true=y_test, probas_pred = test_data_experimento['y_proba_forest_clf'])\n",
    "pr_auc = auc(x=recalls, y=precisions)\n",
    "\n",
    "# Plotar a curva Precision/Recall\n",
    "plt.plot(recalls, precisions, linewidth=2, label=f'PR-AUC = {pr_auc:.2f}')\n",
    "plt.xlabel('Recall')\n",
    "plt.ylabel('Precision')\n",
    "plt.legend(loc='upper right')\n",
    "plt.title('Precision/Recall Curve - Random Forest')\n",
    "plt.grid(True)\n",
    "plt.show()\n"
   ]
  },
  {
   "cell_type": "code",
   "execution_count": 46,
   "metadata": {},
   "outputs": [
    {
     "data": {
      "image/png": "[encoded data removed]",
      "text/plain": [
       "<Figure size 640x480 with 1 Axes>"
      ]
     },
     "metadata": {},
     "output_type": "display_data"
    }
   ],
   "source": [
    "# PR(Precisão/Recall)`SVM`\n",
    "precisions, recalls, thresholds = precision_recall_curve(y_true=y_test, probas_pred = test_data_experimento['y_proba_svm_clf'])\n",
    "pr_auc = auc(x=recalls, y=precisions)\n",
    "\n",
    "# Plotar a curva Precision/Recall\n",
    "plt.plot(recalls, precisions, linewidth=2, label=f'PR-AUC = {pr_auc:.2f}')\n",
    "plt.xlabel('Recall')\n",
    "plt.ylabel('Precision')\n",
    "plt.legend(loc='upper right')\n",
    "plt.title('Precision/Recall Curve - SVM')\n",
    "plt.grid(True)\n",
    "plt.show()"
   ]
  },
  {
   "cell_type": "code",
   "execution_count": 47,
   "metadata": {},
   "outputs": [
    {
     "data": {
      "image/png": "[encoded data removed]",
      "text/plain": [
       "<Figure size 640x480 with 1 Axes>"
      ]
     },
     "metadata": {},
     "output_type": "display_data"
    }
   ],
   "source": [
    "# Calcular curvas Precision/Recall\n",
    "precisions_1, recalls_1, thresholds_1 = precision_recall_curve(y_true=y_test, probas_pred=test_data_experimento['y_proba_forest_clf'])\n",
    "precisions_2, recalls_2, thresholds_2 = precision_recall_curve(y_true=y_test, probas_pred=test_data_experimento['y_proba_svm_clf'])\n",
    "\n",
    "pr_auc_1 = auc(x=recalls_1, y=precisions_1)\n",
    "pr_auc_2 = auc(x=recalls_2, y=precisions_2)\n",
    "\n",
    "# Plotar as curvas Precision/Recall\n",
    "plt.plot(recalls_1, precisions_1, color='orange', linewidth=2, label=f'Random Forest PR-AUC = {pr_auc_1:.2f}')\n",
    "plt.plot(recalls_2, precisions_2, color='green', linewidth=2, label=f'SVM PR-AUC = {pr_auc_2:.2f}')\n",
    "\n",
    "# Configurar o gráfico\n",
    "plt.xlabel('Recall')\n",
    "plt.ylabel('Precision')\n",
    "plt.legend(loc='upper right')\n",
    "plt.title('Precision/Recall Curve')\n",
    "plt.grid(True)\n",
    "\n",
    "# Mostrar o gráfico\n",
    "plt.show()"
   ]
  },
  {
   "cell_type": "markdown",
   "metadata": {},
   "source": [
    "* Ao buscar valores de `precisão` mais elevados, notamos que o `recall` diminui drasticamente, caindo para valores extremamente baixos."
   ]
  },
  {
   "cell_type": "markdown",
   "metadata": {},
   "source": [
    "## Curva ROC Ou Curva PR\n"
   ]
  },
  {
   "cell_type": "markdown",
   "metadata": {},
   "source": [
    "> **A ROC-AUC é útil em conjuntos de dados equilibrados**, pois dá uma visão geral do desempenho do modelo, considerando tanto os\n",
    "` Verdadeiros Positivos (TPR)` quanto os `Falsos Positivos (FPR)`. Contudo, em conjuntos desbalanceados (quando uma classe domina a outra), a\n",
    " ROC-AUC pode ser enganosa.\n",
    "\n",
    ">Já a P**R-AUC foca em precisão e recall, o que é mais útil quando a classe positiva é `rara(dados desbalanceados)`**, ou quando os falsos\n",
    "positivos têm um grande impacto no negócio. Por exemplo, em detecção de spam, você quer garantir que a maioria dos e-mails que são\n",
    "classificados como spam realmente sejam spam, logo `PR-AUC` pode ser melhor."
   ]
  },
  {
   "cell_type": "markdown",
   "metadata": {},
   "source": [
    "Exemplo para ilustrar porque a **Curva PR é melhor para dados desbalanceados**:\n",
    "\n",
    "- Total de exemplos: 10.000\n",
    "- Classe Positiva (minoritária): 500 (pessoas com a doença)\n",
    "- Classe Negativa (majoritária): 9.500(pessoas sem a doença)\n",
    "Agora, vamos supor que temos um classificador com os seguintes resultados:\n",
    "\n",
    "- **Verdadeiros Positivos (TP):** 450 (o modelo previu corretamente 450 pessoas com a doença)\n",
    "- **Falsos Negativos (FN):** 50 (o modelo não detectou 50 pessoas com a doença)\n",
    "- **Verdadeiros Negativos (TN):** 9.200 (o modelo previu corretamente 9.200 pessoas sem a doença)\n",
    "- **Falsos Positivos (FP):** 300 (o modelo disse que 300 pessoas sem a doença tinham a doença)\n"
   ]
  },
  {
   "cell_type": "markdown",
   "metadata": {},
   "source": [
    "**Cálculo da ROC-AUC:**\n",
    "\n",
    "- Taxa de Verdadeiros Positivos (TPR ou Recall): TP/(TP+FN) = 450/(450+50) = 0.9\n",
    "- Taxa de Falsos Positivos (FPR): FP/(FP/TN) = 300/(300+9.200) = 0.0316\n",
    "\n",
    "  - Agora, veja que a **FPR é muito baixa (0.0316)**. Isso ocorre porque temos muitos Verdadeiros Negativos (TN = 9.200) em comparação \n",
    "  com os Falsos Positivos (FP = 300), o que diminui o valor da FPR, mesmo que haja 300 erros de classificação.\n",
    "  - Então, a ROC-AUC pode parecer boa, já que a FPR é pequena, mesmo que o número de Falsos Positivos seja grande. O modelo\n",
    "      parece estar funcionando bem na ROC-AUC, pois a maioria das pessoas está na classe negativa (9.500)."
   ]
  },
  {
   "cell_type": "code",
   "execution_count": 48,
   "metadata": {},
   "outputs": [
    {
     "data": {
      "image/png": "[encoded data removed]",
      "text/plain": [
       "<Figure size 640x480 with 1 Axes>"
      ]
     },
     "metadata": {},
     "output_type": "display_data"
    }
   ],
   "source": [
    "import numpy as np\n",
    "TP = 450  \n",
    "FN = 50  \n",
    "TN = 9200 \n",
    "FP = 300\n",
    "y_true = np.array([1]*TP + [0]*FP + [0]*TN + [1]*FN)\n",
    "y_scores = np.array([1]*TP + [1]*FP + [0]*TN + [0]*FN)\n",
    "\n",
    "fpr, tpr, _ = roc_curve(y_true, y_scores)\n",
    "roc_auc = auc(fpr, tpr)\n",
    "plt.plot(fpr, tpr, color='blue', label=f'ROC AUC = {roc_auc:.2f}')\n",
    "plt.plot([0, 1], [0, 1], color='gray', linestyle='--')\n",
    "plt.xlabel('Taxa de Falsos Positivos (FPR)')\n",
    "plt.ylabel('Taxa de Verdadeiros Positivos (TPR)')\n",
    "plt.title('Curva ROC - Exemplo')\n",
    "plt.legend(loc='lower right')\n",
    "plt.show()"
   ]
  },
  {
   "cell_type": "markdown",
   "metadata": {},
   "source": [
    "**Cálculo da PR-AUC:**\n",
    "\n",
    "- Taxa de Verdadeiros Positivos (TPR ou Recall): TP/(TP+FN) = 450/(450+50) = 0.9\n",
    "- Precisão (Precision): TP/(TP+FP): 450(450+300): 0.6\n",
    "\n",
    "  - Aqui, a Precisão (0.6) é muito mais afetada pelos Falsos Positivos (FP = 300), o que reflete o fato de que o modelo está cometendo muitos\n",
    "erros ao prever a classe positiva (pessoas sem a doença sendo classificadas como tendo a doença). O foco na classe positiva faz com que a\n",
    "PR-AUC seja mais baixa em comparação à ROC-AUC, refletindo melhor o impacto dos erros no modelo."
   ]
  },
  {
   "cell_type": "code",
   "execution_count": 49,
   "metadata": {},
   "outputs": [
    {
     "data": {
      "image/png": "[encoded data removed]",
      "text/plain": [
       "<Figure size 640x480 with 1 Axes>"
      ]
     },
     "metadata": {},
     "output_type": "display_data"
    }
   ],
   "source": [
    "precision, recall, _ = precision_recall_curve(y_true, y_scores)\n",
    "pr_auc = auc(recall, precision)\n",
    "plt.plot(recall, precision, label=f'PR AUC = {pr_auc:.2f})')\n",
    "plt.xlabel('Recall (Taxa de Verdadeiros Positivos)')\n",
    "plt.ylabel('Precisão')\n",
    "plt.title('Curva Precision-Recall')\n",
    "plt.legend(loc='upper right')\n",
    "plt.show()"
   ]
  }
 ],
 "metadata": {
  "kernelspec": {
   "display_name": "Python 3 (ipykernel)",
   "language": "python",
   "name": "python3"
  },
  "nav_menu": {},
  "toc": {
   "navigate_menu": true,
   "number_sections": true,
   "sideBar": true,
   "threshold": 6,
   "toc_cell": false,
   "toc_section_display": "block",
   "toc_window_display": false
  }
 },
 "nbformat": 4,
 "nbformat_minor": 4
}
